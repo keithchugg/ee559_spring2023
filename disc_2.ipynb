{
 "cells": [
  {
   "attachments": {},
   "cell_type": "markdown",
   "metadata": {},
   "source": [
    "Import lib"
   ]
  },
  {
   "cell_type": "code",
   "execution_count": 36,
   "metadata": {},
   "outputs": [],
   "source": [
    "# from plotDecBoundaries import plotDecBoundaries\n",
    "import numpy as np \n",
    "import matplotlib.pyplot as plt\n",
    "from scipy.spatial.distance import cdist"
   ]
  },
  {
   "attachments": {},
   "cell_type": "markdown",
   "metadata": {},
   "source": [
    "X: traning data (# sample, # dim) or say (# sample, # feature)"
   ]
  },
  {
   "cell_type": "code",
   "execution_count": 37,
   "metadata": {},
   "outputs": [
    {
     "name": "stdout",
     "output_type": "stream",
     "text": [
      "(6, 2)\n",
      "[[ 1  2]\n",
      " [ 1  4]\n",
      " [ 1  0]\n",
      " [10  2]\n",
      " [10  4]\n",
      " [10  0]]\n"
     ]
    }
   ],
   "source": [
    "X = np.array([[1, 2], [1, 4], [1, 0],\n",
    "              [10, 2], [10, 4], [10, 0]])\n",
    "print(X.shape)\n",
    "print(X)"
   ]
  },
  {
   "attachments": {},
   "cell_type": "markdown",
   "metadata": {},
   "source": [
    "Create labels"
   ]
  },
  {
   "cell_type": "code",
   "execution_count": 38,
   "metadata": {},
   "outputs": [
    {
     "name": "stdout",
     "output_type": "stream",
     "text": [
      "(6,)\n",
      "[0 0 1 1 1 0]\n"
     ]
    }
   ],
   "source": [
    "labels = np.array([0, 0, 1, 1, 1, 0])\n",
    "print(labels.shape)\n",
    "print(labels)"
   ]
  },
  {
   "attachments": {},
   "cell_type": "markdown",
   "metadata": {},
   "source": [
    "Find unique labels"
   ]
  },
  {
   "cell_type": "code",
   "execution_count": 40,
   "metadata": {},
   "outputs": [
    {
     "data": {
      "text/plain": [
       "array([0, 1])"
      ]
     },
     "execution_count": 40,
     "metadata": {},
     "output_type": "execute_result"
    }
   ],
   "source": [
    "np.unique(labels)"
   ]
  },
  {
   "attachments": {},
   "cell_type": "markdown",
   "metadata": {},
   "source": [
    "Original code is hard coded, the class labels must start from 1\n",
    "\n",
    "It uses 'max' to find the number of classes"
   ]
  },
  {
   "cell_type": "code",
   "execution_count": 39,
   "metadata": {},
   "outputs": [
    {
     "data": {
      "text/plain": [
       "1"
      ]
     },
     "execution_count": 39,
     "metadata": {},
     "output_type": "execute_result"
    }
   ],
   "source": [
    "nclass =  max(np.unique(labels))\n",
    "nclass"
   ]
  },
  {
   "attachments": {},
   "cell_type": "markdown",
   "metadata": {},
   "source": [
    "Class labels start from 1"
   ]
  },
  {
   "cell_type": "code",
   "execution_count": 40,
   "metadata": {},
   "outputs": [
    {
     "name": "stdout",
     "output_type": "stream",
     "text": [
      "[1 1 2 2 2 1]\n",
      "2\n"
     ]
    }
   ],
   "source": [
    "labels = labels + 1\n",
    "print(labels)\n",
    "nclass =  max(np.unique(labels))\n",
    "print(nclass)"
   ]
  },
  {
   "attachments": {},
   "cell_type": "markdown",
   "metadata": {},
   "source": [
    "You can also use 'len' to find the number of classes. \n",
    "\n",
    "Then, no requirements for the start of the label. But you need to change the plot part accordingly."
   ]
  },
  {
   "cell_type": "code",
   "execution_count": 41,
   "metadata": {},
   "outputs": [
    {
     "name": "stdout",
     "output_type": "stream",
     "text": [
      "2\n"
     ]
    }
   ],
   "source": [
    "nclass =  len(np.unique(labels))\n",
    "print(nclass)"
   ]
  },
  {
   "attachments": {},
   "cell_type": "markdown",
   "metadata": {},
   "source": [
    "Plot range"
   ]
  },
  {
   "attachments": {},
   "cell_type": "markdown",
   "metadata": {},
   "source": [
    "Round example "
   ]
  },
  {
   "cell_type": "code",
   "execution_count": 42,
   "metadata": {},
   "outputs": [
    {
     "name": "stdout",
     "output_type": "stream",
     "text": [
      "Input vector [-1.7 -1.5 -0.2  0.2  1.5  1.7  2. ]\n",
      "ceil result  [-1. -1. -0.  1.  2.  2.  2.]\n",
      "floor result [-2. -2. -1.  0.  1.  1.  2.]\n"
     ]
    }
   ],
   "source": [
    "round_example = np.array([-1.7, -1.5, -0.2, 0.2, 1.5, 1.7, 2.0])\n",
    "print('Input vector',round_example)\n",
    "print('ceil result ',np.ceil(round_example))\n",
    "print('floor result',np.floor(round_example))"
   ]
  },
  {
   "cell_type": "code",
   "execution_count": 9,
   "metadata": {},
   "outputs": [
    {
     "name": "stdout",
     "output_type": "stream",
     "text": [
      "x range: (0.0, 11.0) y range (-1.0, 5.0)\n"
     ]
    }
   ],
   "source": [
    "max_x = np.ceil(max(X[:, 0])) + 1\n",
    "min_x = np.floor(min(X[:, 0])) - 1\n",
    "max_y = np.ceil(max(X[:, 1])) + 1\n",
    "min_y = np.floor(min(X[:, 1])) - 1\n",
    "\n",
    "xrange = (min_x, max_x)\n",
    "yrange = (min_y, max_y)\n",
    "print(\"x range:\",xrange,\"y range\",yrange)"
   ]
  },
  {
   "attachments": {},
   "cell_type": "markdown",
   "metadata": {},
   "source": [
    "Create mesh grid using np.meshgrid\n",
    "\n",
    "np.meshgrid: Return coordinate matrices from coordinate vectors."
   ]
  },
  {
   "cell_type": "code",
   "execution_count": 10,
   "metadata": {},
   "outputs": [],
   "source": [
    "# inc = 0.005\n",
    "inc = 0.5\n",
    "\n",
    "(x, y) = np.meshgrid(np.arange(xrange[0], xrange[1]+inc/100, inc), np.arange(yrange[0], yrange[1]+inc/100, inc))\n"
   ]
  },
  {
   "cell_type": "code",
   "execution_count": 11,
   "metadata": {},
   "outputs": [
    {
     "name": "stdout",
     "output_type": "stream",
     "text": [
      "[[ 0.   0.5  1.   1.5  2.   2.5  3.   3.5  4.   4.5  5.   5.5  6.   6.5\n",
      "   7.   7.5  8.   8.5  9.   9.5 10.  10.5 11. ]\n",
      " [ 0.   0.5  1.   1.5  2.   2.5  3.   3.5  4.   4.5  5.   5.5  6.   6.5\n",
      "   7.   7.5  8.   8.5  9.   9.5 10.  10.5 11. ]\n",
      " [ 0.   0.5  1.   1.5  2.   2.5  3.   3.5  4.   4.5  5.   5.5  6.   6.5\n",
      "   7.   7.5  8.   8.5  9.   9.5 10.  10.5 11. ]\n",
      " [ 0.   0.5  1.   1.5  2.   2.5  3.   3.5  4.   4.5  5.   5.5  6.   6.5\n",
      "   7.   7.5  8.   8.5  9.   9.5 10.  10.5 11. ]\n",
      " [ 0.   0.5  1.   1.5  2.   2.5  3.   3.5  4.   4.5  5.   5.5  6.   6.5\n",
      "   7.   7.5  8.   8.5  9.   9.5 10.  10.5 11. ]\n",
      " [ 0.   0.5  1.   1.5  2.   2.5  3.   3.5  4.   4.5  5.   5.5  6.   6.5\n",
      "   7.   7.5  8.   8.5  9.   9.5 10.  10.5 11. ]\n",
      " [ 0.   0.5  1.   1.5  2.   2.5  3.   3.5  4.   4.5  5.   5.5  6.   6.5\n",
      "   7.   7.5  8.   8.5  9.   9.5 10.  10.5 11. ]\n",
      " [ 0.   0.5  1.   1.5  2.   2.5  3.   3.5  4.   4.5  5.   5.5  6.   6.5\n",
      "   7.   7.5  8.   8.5  9.   9.5 10.  10.5 11. ]\n",
      " [ 0.   0.5  1.   1.5  2.   2.5  3.   3.5  4.   4.5  5.   5.5  6.   6.5\n",
      "   7.   7.5  8.   8.5  9.   9.5 10.  10.5 11. ]\n",
      " [ 0.   0.5  1.   1.5  2.   2.5  3.   3.5  4.   4.5  5.   5.5  6.   6.5\n",
      "   7.   7.5  8.   8.5  9.   9.5 10.  10.5 11. ]\n",
      " [ 0.   0.5  1.   1.5  2.   2.5  3.   3.5  4.   4.5  5.   5.5  6.   6.5\n",
      "   7.   7.5  8.   8.5  9.   9.5 10.  10.5 11. ]\n",
      " [ 0.   0.5  1.   1.5  2.   2.5  3.   3.5  4.   4.5  5.   5.5  6.   6.5\n",
      "   7.   7.5  8.   8.5  9.   9.5 10.  10.5 11. ]\n",
      " [ 0.   0.5  1.   1.5  2.   2.5  3.   3.5  4.   4.5  5.   5.5  6.   6.5\n",
      "   7.   7.5  8.   8.5  9.   9.5 10.  10.5 11. ]]\n"
     ]
    }
   ],
   "source": [
    "print(x)"
   ]
  },
  {
   "cell_type": "code",
   "execution_count": 12,
   "metadata": {},
   "outputs": [
    {
     "name": "stdout",
     "output_type": "stream",
     "text": [
      "[[-1.  -1.  -1.  -1.  -1.  -1.  -1.  -1.  -1.  -1.  -1.  -1.  -1.  -1.\n",
      "  -1.  -1.  -1.  -1.  -1.  -1.  -1.  -1.  -1. ]\n",
      " [-0.5 -0.5 -0.5 -0.5 -0.5 -0.5 -0.5 -0.5 -0.5 -0.5 -0.5 -0.5 -0.5 -0.5\n",
      "  -0.5 -0.5 -0.5 -0.5 -0.5 -0.5 -0.5 -0.5 -0.5]\n",
      " [ 0.   0.   0.   0.   0.   0.   0.   0.   0.   0.   0.   0.   0.   0.\n",
      "   0.   0.   0.   0.   0.   0.   0.   0.   0. ]\n",
      " [ 0.5  0.5  0.5  0.5  0.5  0.5  0.5  0.5  0.5  0.5  0.5  0.5  0.5  0.5\n",
      "   0.5  0.5  0.5  0.5  0.5  0.5  0.5  0.5  0.5]\n",
      " [ 1.   1.   1.   1.   1.   1.   1.   1.   1.   1.   1.   1.   1.   1.\n",
      "   1.   1.   1.   1.   1.   1.   1.   1.   1. ]\n",
      " [ 1.5  1.5  1.5  1.5  1.5  1.5  1.5  1.5  1.5  1.5  1.5  1.5  1.5  1.5\n",
      "   1.5  1.5  1.5  1.5  1.5  1.5  1.5  1.5  1.5]\n",
      " [ 2.   2.   2.   2.   2.   2.   2.   2.   2.   2.   2.   2.   2.   2.\n",
      "   2.   2.   2.   2.   2.   2.   2.   2.   2. ]\n",
      " [ 2.5  2.5  2.5  2.5  2.5  2.5  2.5  2.5  2.5  2.5  2.5  2.5  2.5  2.5\n",
      "   2.5  2.5  2.5  2.5  2.5  2.5  2.5  2.5  2.5]\n",
      " [ 3.   3.   3.   3.   3.   3.   3.   3.   3.   3.   3.   3.   3.   3.\n",
      "   3.   3.   3.   3.   3.   3.   3.   3.   3. ]\n",
      " [ 3.5  3.5  3.5  3.5  3.5  3.5  3.5  3.5  3.5  3.5  3.5  3.5  3.5  3.5\n",
      "   3.5  3.5  3.5  3.5  3.5  3.5  3.5  3.5  3.5]\n",
      " [ 4.   4.   4.   4.   4.   4.   4.   4.   4.   4.   4.   4.   4.   4.\n",
      "   4.   4.   4.   4.   4.   4.   4.   4.   4. ]\n",
      " [ 4.5  4.5  4.5  4.5  4.5  4.5  4.5  4.5  4.5  4.5  4.5  4.5  4.5  4.5\n",
      "   4.5  4.5  4.5  4.5  4.5  4.5  4.5  4.5  4.5]\n",
      " [ 5.   5.   5.   5.   5.   5.   5.   5.   5.   5.   5.   5.   5.   5.\n",
      "   5.   5.   5.   5.   5.   5.   5.   5.   5. ]]\n"
     ]
    }
   ],
   "source": [
    "print(y)"
   ]
  },
  {
   "cell_type": "code",
   "execution_count": 13,
   "metadata": {},
   "outputs": [
    {
     "data": {
      "image/png": "[encoded data removed]",
      "text/plain": [
       "<Figure size 864x864 with 1 Axes>"
      ]
     },
     "metadata": {
      "needs_background": "light"
     },
     "output_type": "display_data"
    }
   ],
   "source": [
    "plt.figure(figsize=(12,12))\n",
    "plt.scatter(x, y)\n",
    "plt.show()"
   ]
  },
  {
   "attachments": {},
   "cell_type": "markdown",
   "metadata": {},
   "source": [
    "Get coord of grids"
   ]
  },
  {
   "cell_type": "code",
   "execution_count": 27,
   "metadata": {},
   "outputs": [],
   "source": [
    "xy = np.hstack( (x.reshape(x.shape[0]*x.shape[1], 1, order='F'), y.reshape(y.shape[0]*y.shape[1], 1, order='F')) )"
   ]
  },
  {
   "cell_type": "code",
   "execution_count": 28,
   "metadata": {},
   "outputs": [
    {
     "name": "stdout",
     "output_type": "stream",
     "text": [
      "[[ 0.  -1. ]\n",
      " [ 0.  -0.5]\n",
      " [ 0.   0. ]\n",
      " [ 0.   0.5]\n",
      " [ 0.   1. ]\n",
      " [ 0.   1.5]\n",
      " [ 0.   2. ]\n",
      " [ 0.   2.5]\n",
      " [ 0.   3. ]\n",
      " [ 0.   3.5]\n",
      " [ 0.   4. ]\n",
      " [ 0.   4.5]\n",
      " [ 0.   5. ]\n",
      " [ 0.5 -1. ]\n",
      " [ 0.5 -0.5]\n",
      " [ 0.5  0. ]\n",
      " [ 0.5  0.5]\n",
      " [ 0.5  1. ]\n",
      " [ 0.5  1.5]\n",
      " [ 0.5  2. ]\n",
      " [ 0.5  2.5]\n",
      " [ 0.5  3. ]\n",
      " [ 0.5  3.5]\n",
      " [ 0.5  4. ]\n",
      " [ 0.5  4.5]\n",
      " [ 0.5  5. ]\n",
      " [ 1.  -1. ]\n",
      " [ 1.  -0.5]\n",
      " [ 1.   0. ]\n",
      " [ 1.   0.5]\n",
      " [ 1.   1. ]\n",
      " [ 1.   1.5]\n",
      " [ 1.   2. ]\n",
      " [ 1.   2.5]\n",
      " [ 1.   3. ]\n",
      " [ 1.   3.5]\n",
      " [ 1.   4. ]\n",
      " [ 1.   4.5]\n",
      " [ 1.   5. ]\n",
      " [ 1.5 -1. ]\n",
      " [ 1.5 -0.5]\n",
      " [ 1.5  0. ]\n",
      " [ 1.5  0.5]\n",
      " [ 1.5  1. ]\n",
      " [ 1.5  1.5]\n",
      " [ 1.5  2. ]\n",
      " [ 1.5  2.5]\n",
      " [ 1.5  3. ]\n",
      " [ 1.5  3.5]\n",
      " [ 1.5  4. ]\n",
      " [ 1.5  4.5]\n",
      " [ 1.5  5. ]\n",
      " [ 2.  -1. ]\n",
      " [ 2.  -0.5]\n",
      " [ 2.   0. ]\n",
      " [ 2.   0.5]\n",
      " [ 2.   1. ]\n",
      " [ 2.   1.5]\n",
      " [ 2.   2. ]\n",
      " [ 2.   2.5]\n",
      " [ 2.   3. ]\n",
      " [ 2.   3.5]\n",
      " [ 2.   4. ]\n",
      " [ 2.   4.5]\n",
      " [ 2.   5. ]\n",
      " [ 2.5 -1. ]\n",
      " [ 2.5 -0.5]\n",
      " [ 2.5  0. ]\n",
      " [ 2.5  0.5]\n",
      " [ 2.5  1. ]\n",
      " [ 2.5  1.5]\n",
      " [ 2.5  2. ]\n",
      " [ 2.5  2.5]\n",
      " [ 2.5  3. ]\n",
      " [ 2.5  3.5]\n",
      " [ 2.5  4. ]\n",
      " [ 2.5  4.5]\n",
      " [ 2.5  5. ]\n",
      " [ 3.  -1. ]\n",
      " [ 3.  -0.5]\n",
      " [ 3.   0. ]\n",
      " [ 3.   0.5]\n",
      " [ 3.   1. ]\n",
      " [ 3.   1.5]\n",
      " [ 3.   2. ]\n",
      " [ 3.   2.5]\n",
      " [ 3.   3. ]\n",
      " [ 3.   3.5]\n",
      " [ 3.   4. ]\n",
      " [ 3.   4.5]\n",
      " [ 3.   5. ]\n",
      " [ 3.5 -1. ]\n",
      " [ 3.5 -0.5]\n",
      " [ 3.5  0. ]\n",
      " [ 3.5  0.5]\n",
      " [ 3.5  1. ]\n",
      " [ 3.5  1.5]\n",
      " [ 3.5  2. ]\n",
      " [ 3.5  2.5]\n",
      " [ 3.5  3. ]\n",
      " [ 3.5  3.5]\n",
      " [ 3.5  4. ]\n",
      " [ 3.5  4.5]\n",
      " [ 3.5  5. ]\n",
      " [ 4.  -1. ]\n",
      " [ 4.  -0.5]\n",
      " [ 4.   0. ]\n",
      " [ 4.   0.5]\n",
      " [ 4.   1. ]\n",
      " [ 4.   1.5]\n",
      " [ 4.   2. ]\n",
      " [ 4.   2.5]\n",
      " [ 4.   3. ]\n",
      " [ 4.   3.5]\n",
      " [ 4.   4. ]\n",
      " [ 4.   4.5]\n",
      " [ 4.   5. ]\n",
      " [ 4.5 -1. ]\n",
      " [ 4.5 -0.5]\n",
      " [ 4.5  0. ]\n",
      " [ 4.5  0.5]\n",
      " [ 4.5  1. ]\n",
      " [ 4.5  1.5]\n",
      " [ 4.5  2. ]\n",
      " [ 4.5  2.5]\n",
      " [ 4.5  3. ]\n",
      " [ 4.5  3.5]\n",
      " [ 4.5  4. ]\n",
      " [ 4.5  4.5]\n",
      " [ 4.5  5. ]\n",
      " [ 5.  -1. ]\n",
      " [ 5.  -0.5]\n",
      " [ 5.   0. ]\n",
      " [ 5.   0.5]\n",
      " [ 5.   1. ]\n",
      " [ 5.   1.5]\n",
      " [ 5.   2. ]\n",
      " [ 5.   2.5]\n",
      " [ 5.   3. ]\n",
      " [ 5.   3.5]\n",
      " [ 5.   4. ]\n",
      " [ 5.   4.5]\n",
      " [ 5.   5. ]\n",
      " [ 5.5 -1. ]\n",
      " [ 5.5 -0.5]\n",
      " [ 5.5  0. ]\n",
      " [ 5.5  0.5]\n",
      " [ 5.5  1. ]\n",
      " [ 5.5  1.5]\n",
      " [ 5.5  2. ]\n",
      " [ 5.5  2.5]\n",
      " [ 5.5  3. ]\n",
      " [ 5.5  3.5]\n",
      " [ 5.5  4. ]\n",
      " [ 5.5  4.5]\n",
      " [ 5.5  5. ]\n",
      " [ 6.  -1. ]\n",
      " [ 6.  -0.5]\n",
      " [ 6.   0. ]\n",
      " [ 6.   0.5]\n",
      " [ 6.   1. ]\n",
      " [ 6.   1.5]\n",
      " [ 6.   2. ]\n",
      " [ 6.   2.5]\n",
      " [ 6.   3. ]\n",
      " [ 6.   3.5]\n",
      " [ 6.   4. ]\n",
      " [ 6.   4.5]\n",
      " [ 6.   5. ]\n",
      " [ 6.5 -1. ]\n",
      " [ 6.5 -0.5]\n",
      " [ 6.5  0. ]\n",
      " [ 6.5  0.5]\n",
      " [ 6.5  1. ]\n",
      " [ 6.5  1.5]\n",
      " [ 6.5  2. ]\n",
      " [ 6.5  2.5]\n",
      " [ 6.5  3. ]\n",
      " [ 6.5  3.5]\n",
      " [ 6.5  4. ]\n",
      " [ 6.5  4.5]\n",
      " [ 6.5  5. ]\n",
      " [ 7.  -1. ]\n",
      " [ 7.  -0.5]\n",
      " [ 7.   0. ]\n",
      " [ 7.   0.5]\n",
      " [ 7.   1. ]\n",
      " [ 7.   1.5]\n",
      " [ 7.   2. ]\n",
      " [ 7.   2.5]\n",
      " [ 7.   3. ]\n",
      " [ 7.   3.5]\n",
      " [ 7.   4. ]\n",
      " [ 7.   4.5]\n",
      " [ 7.   5. ]\n",
      " [ 7.5 -1. ]\n",
      " [ 7.5 -0.5]\n",
      " [ 7.5  0. ]\n",
      " [ 7.5  0.5]\n",
      " [ 7.5  1. ]\n",
      " [ 7.5  1.5]\n",
      " [ 7.5  2. ]\n",
      " [ 7.5  2.5]\n",
      " [ 7.5  3. ]\n",
      " [ 7.5  3.5]\n",
      " [ 7.5  4. ]\n",
      " [ 7.5  4.5]\n",
      " [ 7.5  5. ]\n",
      " [ 8.  -1. ]\n",
      " [ 8.  -0.5]\n",
      " [ 8.   0. ]\n",
      " [ 8.   0.5]\n",
      " [ 8.   1. ]\n",
      " [ 8.   1.5]\n",
      " [ 8.   2. ]\n",
      " [ 8.   2.5]\n",
      " [ 8.   3. ]\n",
      " [ 8.   3.5]\n",
      " [ 8.   4. ]\n",
      " [ 8.   4.5]\n",
      " [ 8.   5. ]\n",
      " [ 8.5 -1. ]\n",
      " [ 8.5 -0.5]\n",
      " [ 8.5  0. ]\n",
      " [ 8.5  0.5]\n",
      " [ 8.5  1. ]\n",
      " [ 8.5  1.5]\n",
      " [ 8.5  2. ]\n",
      " [ 8.5  2.5]\n",
      " [ 8.5  3. ]\n",
      " [ 8.5  3.5]\n",
      " [ 8.5  4. ]\n",
      " [ 8.5  4.5]\n",
      " [ 8.5  5. ]\n",
      " [ 9.  -1. ]\n",
      " [ 9.  -0.5]\n",
      " [ 9.   0. ]\n",
      " [ 9.   0.5]\n",
      " [ 9.   1. ]\n",
      " [ 9.   1.5]\n",
      " [ 9.   2. ]\n",
      " [ 9.   2.5]\n",
      " [ 9.   3. ]\n",
      " [ 9.   3.5]\n",
      " [ 9.   4. ]\n",
      " [ 9.   4.5]\n",
      " [ 9.   5. ]\n",
      " [ 9.5 -1. ]\n",
      " [ 9.5 -0.5]\n",
      " [ 9.5  0. ]\n",
      " [ 9.5  0.5]\n",
      " [ 9.5  1. ]\n",
      " [ 9.5  1.5]\n",
      " [ 9.5  2. ]\n",
      " [ 9.5  2.5]\n",
      " [ 9.5  3. ]\n",
      " [ 9.5  3.5]\n",
      " [ 9.5  4. ]\n",
      " [ 9.5  4.5]\n",
      " [ 9.5  5. ]\n",
      " [10.  -1. ]\n",
      " [10.  -0.5]\n",
      " [10.   0. ]\n",
      " [10.   0.5]\n",
      " [10.   1. ]\n",
      " [10.   1.5]\n",
      " [10.   2. ]\n",
      " [10.   2.5]\n",
      " [10.   3. ]\n",
      " [10.   3.5]\n",
      " [10.   4. ]\n",
      " [10.   4.5]\n",
      " [10.   5. ]\n",
      " [10.5 -1. ]\n",
      " [10.5 -0.5]\n",
      " [10.5  0. ]\n",
      " [10.5  0.5]\n",
      " [10.5  1. ]\n",
      " [10.5  1.5]\n",
      " [10.5  2. ]\n",
      " [10.5  2.5]\n",
      " [10.5  3. ]\n",
      " [10.5  3.5]\n",
      " [10.5  4. ]\n",
      " [10.5  4.5]\n",
      " [10.5  5. ]\n",
      " [11.  -1. ]\n",
      " [11.  -0.5]\n",
      " [11.   0. ]\n",
      " [11.   0.5]\n",
      " [11.   1. ]\n",
      " [11.   1.5]\n",
      " [11.   2. ]\n",
      " [11.   2.5]\n",
      " [11.   3. ]\n",
      " [11.   3.5]\n",
      " [11.   4. ]\n",
      " [11.   4.5]\n",
      " [11.   5. ]]\n"
     ]
    }
   ],
   "source": [
    "print(xy)"
   ]
  },
  {
   "attachments": {},
   "cell_type": "markdown",
   "metadata": {},
   "source": [
    "Create the fake sample mean. \n",
    "\n",
    "You should find calculate the sample mean by the training data."
   ]
  },
  {
   "cell_type": "code",
   "execution_count": 43,
   "metadata": {},
   "outputs": [
    {
     "data": {
      "text/plain": [
       "array([[4., 3.],\n",
       "       [8., 4.]])"
      ]
     },
     "execution_count": 43,
     "metadata": {},
     "output_type": "execute_result"
    }
   ],
   "source": [
    "sample_mean = np.zeros((2,2))\n",
    "sample_mean[0,0] = 4\n",
    "sample_mean[0,1] = 3\n",
    "sample_mean[1,0] = 8\n",
    "sample_mean[1,1] = 4\n",
    "sample_mean"
   ]
  },
  {
   "attachments": {},
   "cell_type": "markdown",
   "metadata": {},
   "source": [
    "cdist computes the distance of each sample mean (each mean is in the row of the matrix) with each row of the xy matrix (each point) \n",
    "\n",
    "scipy.spatial.distance.cdist(XA, XB, metric='euclidean', *, out=None, **kwargs)\n",
    "Compute distance between each pair of the two collections of inputs."
   ]
  },
  {
   "cell_type": "code",
   "execution_count": 30,
   "metadata": {},
   "outputs": [
    {
     "data": {
      "text/plain": [
       "array([[5.65685425, 9.43398113],\n",
       "       [5.31507291, 9.17877988],\n",
       "       [5.        , 8.94427191],\n",
       "       [4.71699057, 8.7321246 ],\n",
       "       [4.47213595, 8.54400375],\n",
       "       [4.27200187, 8.38152731],\n",
       "       [4.12310563, 8.24621125],\n",
       "       [4.03112887, 8.1394103 ],\n",
       "       [4.        , 8.06225775],\n",
       "       [4.03112887, 8.01560977],\n",
       "       [4.12310563, 8.        ],\n",
       "       [4.27200187, 8.01560977],\n",
       "       [4.47213595, 8.06225775],\n",
       "       [5.31507291, 9.01387819],\n",
       "       [4.94974747, 8.74642784],\n",
       "       [4.60977223, 8.5       ],\n",
       "       [4.30116263, 8.27647268],\n",
       "       [4.03112887, 8.07774721],\n",
       "       [3.80788655, 7.90569415],\n",
       "       [3.64005494, 7.76208735],\n",
       "       [3.53553391, 7.64852927],\n",
       "       [3.5       , 7.56637298],\n",
       "       [3.53553391, 7.51664819],\n",
       "       [3.64005494, 7.5       ],\n",
       "       [3.80788655, 7.51664819],\n",
       "       [4.03112887, 7.56637298],\n",
       "       [5.        , 8.60232527],\n",
       "       [4.60977223, 8.32165849],\n",
       "       [4.24264069, 8.06225775],\n",
       "       [3.90512484, 7.82623792],\n",
       "       [3.60555128, 7.61577311],\n",
       "       [3.35410197, 7.43303437],\n",
       "       [3.16227766, 7.28010989],\n",
       "       [3.04138127, 7.15891053],\n",
       "       [3.        , 7.07106781],\n",
       "       [3.04138127, 7.01783442],\n",
       "       [3.16227766, 7.        ],\n",
       "       [3.35410197, 7.01783442],\n",
       "       [3.60555128, 7.07106781],\n",
       "       [4.71699057, 8.20060973],\n",
       "       [4.30116263, 7.90569415],\n",
       "       [3.90512484, 7.63216876],\n",
       "       [3.53553391, 7.38241153],\n",
       "       [3.20156212, 7.15891053],\n",
       "       [2.91547595, 6.96419414],\n",
       "       [2.6925824 , 6.80073525],\n",
       "       [2.54950976, 6.67083203],\n",
       "       [2.5       , 6.57647322],\n",
       "       [2.54950976, 6.51920241],\n",
       "       [2.6925824 , 6.5       ],\n",
       "       [2.91547595, 6.51920241],\n",
       "       [3.20156212, 6.57647322],\n",
       "       [4.47213595, 7.81024968],\n",
       "       [4.03112887, 7.5       ],\n",
       "       [3.60555128, 7.21110255],\n",
       "       [3.20156212, 6.94622199],\n",
       "       [2.82842712, 6.70820393],\n",
       "       [2.5       , 6.5       ],\n",
       "       [2.23606798, 6.32455532],\n",
       "       [2.06155281, 6.18465844],\n",
       "       [2.        , 6.08276253],\n",
       "       [2.06155281, 6.02079729],\n",
       "       [2.23606798, 6.        ],\n",
       "       [2.5       , 6.02079729],\n",
       "       [2.82842712, 6.08276253],\n",
       "       [4.27200187, 7.43303437],\n",
       "       [3.80788655, 7.1063352 ],\n",
       "       [3.35410197, 6.80073525],\n",
       "       [2.91547595, 6.51920241],\n",
       "       [2.5       , 6.26498204],\n",
       "       [2.12132034, 6.04152299],\n",
       "       [1.80277564, 5.85234996],\n",
       "       [1.58113883, 5.70087713],\n",
       "       [1.5       , 5.59016994],\n",
       "       [1.58113883, 5.52268051],\n",
       "       [1.80277564, 5.5       ],\n",
       "       [2.12132034, 5.52268051],\n",
       "       [2.5       , 5.59016994],\n",
       "       [4.12310563, 7.07106781],\n",
       "       [3.64005494, 6.72681202],\n",
       "       [3.16227766, 6.40312424],\n",
       "       [2.6925824 , 6.10327781],\n",
       "       [2.23606798, 5.83095189],\n",
       "       [1.80277564, 5.59016994],\n",
       "       [1.41421356, 5.38516481],\n",
       "       [1.11803399, 5.22015325],\n",
       "       [1.        , 5.09901951],\n",
       "       [1.11803399, 5.02493781],\n",
       "       [1.41421356, 5.        ],\n",
       "       [1.80277564, 5.02493781],\n",
       "       [2.23606798, 5.09901951],\n",
       "       [4.03112887, 6.72681202],\n",
       "       [3.53553391, 6.36396103],\n",
       "       [3.04138127, 6.02079729],\n",
       "       [2.54950976, 5.70087713],\n",
       "       [2.06155281, 5.40832691],\n",
       "       [1.58113883, 5.14781507],\n",
       "       [1.11803399, 4.9244289 ],\n",
       "       [0.70710678, 4.74341649],\n",
       "       [0.5       , 4.60977223],\n",
       "       [0.70710678, 4.52769257],\n",
       "       [1.11803399, 4.5       ],\n",
       "       [1.58113883, 4.52769257],\n",
       "       [2.06155281, 4.60977223],\n",
       "       [4.        , 6.40312424],\n",
       "       [3.5       , 6.02079729],\n",
       "       [3.        , 5.65685425],\n",
       "       [2.5       , 5.31507291],\n",
       "       [2.        , 5.        ],\n",
       "       [1.5       , 4.71699057],\n",
       "       [1.        , 4.47213595],\n",
       "       [0.5       , 4.27200187],\n",
       "       [0.        , 4.12310563],\n",
       "       [0.5       , 4.03112887],\n",
       "       [1.        , 4.        ],\n",
       "       [1.5       , 4.03112887],\n",
       "       [2.        , 4.12310563],\n",
       "       [4.03112887, 6.10327781],\n",
       "       [3.53553391, 5.70087713],\n",
       "       [3.04138127, 5.31507291],\n",
       "       [2.54950976, 4.94974747],\n",
       "       [2.06155281, 4.60977223],\n",
       "       [1.58113883, 4.30116263],\n",
       "       [1.11803399, 4.03112887],\n",
       "       [0.70710678, 3.80788655],\n",
       "       [0.5       , 3.64005494],\n",
       "       [0.70710678, 3.53553391],\n",
       "       [1.11803399, 3.5       ],\n",
       "       [1.58113883, 3.53553391],\n",
       "       [2.06155281, 3.64005494],\n",
       "       [4.12310563, 5.83095189],\n",
       "       [3.64005494, 5.40832691],\n",
       "       [3.16227766, 5.        ],\n",
       "       [2.6925824 , 4.60977223],\n",
       "       [2.23606798, 4.24264069],\n",
       "       [1.80277564, 3.90512484],\n",
       "       [1.41421356, 3.60555128],\n",
       "       [1.11803399, 3.35410197],\n",
       "       [1.        , 3.16227766],\n",
       "       [1.11803399, 3.04138127],\n",
       "       [1.41421356, 3.        ],\n",
       "       [1.80277564, 3.04138127],\n",
       "       [2.23606798, 3.16227766],\n",
       "       [4.27200187, 5.59016994],\n",
       "       [3.80788655, 5.14781507],\n",
       "       [3.35410197, 4.71699057],\n",
       "       [2.91547595, 4.30116263],\n",
       "       [2.5       , 3.90512484],\n",
       "       [2.12132034, 3.53553391],\n",
       "       [1.80277564, 3.20156212],\n",
       "       [1.58113883, 2.91547595],\n",
       "       [1.5       , 2.6925824 ],\n",
       "       [1.58113883, 2.54950976],\n",
       "       [1.80277564, 2.5       ],\n",
       "       [2.12132034, 2.54950976],\n",
       "       [2.5       , 2.6925824 ],\n",
       "       [4.47213595, 5.38516481],\n",
       "       [4.03112887, 4.9244289 ],\n",
       "       [3.60555128, 4.47213595],\n",
       "       [3.20156212, 4.03112887],\n",
       "       [2.82842712, 3.60555128],\n",
       "       [2.5       , 3.20156212],\n",
       "       [2.23606798, 2.82842712],\n",
       "       [2.06155281, 2.5       ],\n",
       "       [2.        , 2.23606798],\n",
       "       [2.06155281, 2.06155281],\n",
       "       [2.23606798, 2.        ],\n",
       "       [2.5       , 2.06155281],\n",
       "       [2.82842712, 2.23606798],\n",
       "       [4.71699057, 5.22015325],\n",
       "       [4.30116263, 4.74341649],\n",
       "       [3.90512484, 4.27200187],\n",
       "       [3.53553391, 3.80788655],\n",
       "       [3.20156212, 3.35410197],\n",
       "       [2.91547595, 2.91547595],\n",
       "       [2.6925824 , 2.5       ],\n",
       "       [2.54950976, 2.12132034],\n",
       "       [2.5       , 1.80277564],\n",
       "       [2.54950976, 1.58113883],\n",
       "       [2.6925824 , 1.5       ],\n",
       "       [2.91547595, 1.58113883],\n",
       "       [3.20156212, 1.80277564],\n",
       "       [5.        , 5.09901951],\n",
       "       [4.60977223, 4.60977223],\n",
       "       [4.24264069, 4.12310563],\n",
       "       [3.90512484, 3.64005494],\n",
       "       [3.60555128, 3.16227766],\n",
       "       [3.35410197, 2.6925824 ],\n",
       "       [3.16227766, 2.23606798],\n",
       "       [3.04138127, 1.80277564],\n",
       "       [3.        , 1.41421356],\n",
       "       [3.04138127, 1.11803399],\n",
       "       [3.16227766, 1.        ],\n",
       "       [3.35410197, 1.11803399],\n",
       "       [3.60555128, 1.41421356],\n",
       "       [5.31507291, 5.02493781],\n",
       "       [4.94974747, 4.52769257],\n",
       "       [4.60977223, 4.03112887],\n",
       "       [4.30116263, 3.53553391],\n",
       "       [4.03112887, 3.04138127],\n",
       "       [3.80788655, 2.54950976],\n",
       "       [3.64005494, 2.06155281],\n",
       "       [3.53553391, 1.58113883],\n",
       "       [3.5       , 1.11803399],\n",
       "       [3.53553391, 0.70710678],\n",
       "       [3.64005494, 0.5       ],\n",
       "       [3.80788655, 0.70710678],\n",
       "       [4.03112887, 1.11803399],\n",
       "       [5.65685425, 5.        ],\n",
       "       [5.31507291, 4.5       ],\n",
       "       [5.        , 4.        ],\n",
       "       [4.71699057, 3.5       ],\n",
       "       [4.47213595, 3.        ],\n",
       "       [4.27200187, 2.5       ],\n",
       "       [4.12310563, 2.        ],\n",
       "       [4.03112887, 1.5       ],\n",
       "       [4.        , 1.        ],\n",
       "       [4.03112887, 0.5       ],\n",
       "       [4.12310563, 0.        ],\n",
       "       [4.27200187, 0.5       ],\n",
       "       [4.47213595, 1.        ],\n",
       "       [6.02079729, 5.02493781],\n",
       "       [5.70087713, 4.52769257],\n",
       "       [5.40832691, 4.03112887],\n",
       "       [5.14781507, 3.53553391],\n",
       "       [4.9244289 , 3.04138127],\n",
       "       [4.74341649, 2.54950976],\n",
       "       [4.60977223, 2.06155281],\n",
       "       [4.52769257, 1.58113883],\n",
       "       [4.5       , 1.11803399],\n",
       "       [4.52769257, 0.70710678],\n",
       "       [4.60977223, 0.5       ],\n",
       "       [4.74341649, 0.70710678],\n",
       "       [4.9244289 , 1.11803399],\n",
       "       [6.40312424, 5.09901951],\n",
       "       [6.10327781, 4.60977223],\n",
       "       [5.83095189, 4.12310563],\n",
       "       [5.59016994, 3.64005494],\n",
       "       [5.38516481, 3.16227766],\n",
       "       [5.22015325, 2.6925824 ],\n",
       "       [5.09901951, 2.23606798],\n",
       "       [5.02493781, 1.80277564],\n",
       "       [5.        , 1.41421356],\n",
       "       [5.02493781, 1.11803399],\n",
       "       [5.09901951, 1.        ],\n",
       "       [5.22015325, 1.11803399],\n",
       "       [5.38516481, 1.41421356],\n",
       "       [6.80073525, 5.22015325],\n",
       "       [6.51920241, 4.74341649],\n",
       "       [6.26498204, 4.27200187],\n",
       "       [6.04152299, 3.80788655],\n",
       "       [5.85234996, 3.35410197],\n",
       "       [5.70087713, 2.91547595],\n",
       "       [5.59016994, 2.5       ],\n",
       "       [5.52268051, 2.12132034],\n",
       "       [5.5       , 1.80277564],\n",
       "       [5.52268051, 1.58113883],\n",
       "       [5.59016994, 1.5       ],\n",
       "       [5.70087713, 1.58113883],\n",
       "       [5.85234996, 1.80277564],\n",
       "       [7.21110255, 5.38516481],\n",
       "       [6.94622199, 4.9244289 ],\n",
       "       [6.70820393, 4.47213595],\n",
       "       [6.5       , 4.03112887],\n",
       "       [6.32455532, 3.60555128],\n",
       "       [6.18465844, 3.20156212],\n",
       "       [6.08276253, 2.82842712],\n",
       "       [6.02079729, 2.5       ],\n",
       "       [6.        , 2.23606798],\n",
       "       [6.02079729, 2.06155281],\n",
       "       [6.08276253, 2.        ],\n",
       "       [6.18465844, 2.06155281],\n",
       "       [6.32455532, 2.23606798],\n",
       "       [7.63216876, 5.59016994],\n",
       "       [7.38241153, 5.14781507],\n",
       "       [7.15891053, 4.71699057],\n",
       "       [6.96419414, 4.30116263],\n",
       "       [6.80073525, 3.90512484],\n",
       "       [6.67083203, 3.53553391],\n",
       "       [6.57647322, 3.20156212],\n",
       "       [6.51920241, 2.91547595],\n",
       "       [6.5       , 2.6925824 ],\n",
       "       [6.51920241, 2.54950976],\n",
       "       [6.57647322, 2.5       ],\n",
       "       [6.67083203, 2.54950976],\n",
       "       [6.80073525, 2.6925824 ],\n",
       "       [8.06225775, 5.83095189],\n",
       "       [7.82623792, 5.40832691],\n",
       "       [7.61577311, 5.        ],\n",
       "       [7.43303437, 4.60977223],\n",
       "       [7.28010989, 4.24264069],\n",
       "       [7.15891053, 3.90512484],\n",
       "       [7.07106781, 3.60555128],\n",
       "       [7.01783442, 3.35410197],\n",
       "       [7.        , 3.16227766],\n",
       "       [7.01783442, 3.04138127],\n",
       "       [7.07106781, 3.        ],\n",
       "       [7.15891053, 3.04138127],\n",
       "       [7.28010989, 3.16227766]])"
      ]
     },
     "execution_count": 30,
     "metadata": {},
     "output_type": "execute_result"
    }
   ],
   "source": [
    "image_size = x.shape\n",
    "# distance measure evaluations for each (x,y) pair.\n",
    "dist_mat = cdist(xy, sample_mean)\n",
    "dist_mat\n"
   ]
  },
  {
   "attachments": {},
   "cell_type": "markdown",
   "metadata": {},
   "source": [
    "find which column (which corresponds to the distance with each sample mean) is min. That is the predicted label"
   ]
  },
  {
   "cell_type": "code",
   "execution_count": 31,
   "metadata": {},
   "outputs": [
    {
     "data": {
      "text/plain": [
       "array([0, 0, 0, 0, 0, 0, 0, 0, 0, 0, 0, 0, 0, 0, 0, 0, 0, 0, 0, 0, 0, 0,\n",
       "       0, 0, 0, 0, 0, 0, 0, 0, 0, 0, 0, 0, 0, 0, 0, 0, 0, 0, 0, 0, 0, 0,\n",
       "       0, 0, 0, 0, 0, 0, 0, 0, 0, 0, 0, 0, 0, 0, 0, 0, 0, 0, 0, 0, 0, 0,\n",
       "       0, 0, 0, 0, 0, 0, 0, 0, 0, 0, 0, 0, 0, 0, 0, 0, 0, 0, 0, 0, 0, 0,\n",
       "       0, 0, 0, 0, 0, 0, 0, 0, 0, 0, 0, 0, 0, 0, 0, 0, 0, 0, 0, 0, 0, 0,\n",
       "       0, 0, 0, 0, 0, 0, 0, 0, 0, 0, 0, 0, 0, 0, 0, 0, 0, 0, 0, 0, 0, 0,\n",
       "       0, 0, 0, 0, 0, 0, 0, 0, 0, 0, 0, 0, 0, 0, 0, 0, 0, 0, 0, 0, 0, 0,\n",
       "       0, 0, 0, 0, 0, 0, 0, 0, 0, 0, 0, 0, 1, 1, 1, 0, 0, 0, 0, 0, 0, 1,\n",
       "       1, 1, 1, 1, 1, 1, 0, 0, 1, 1, 1, 1, 1, 1, 1, 1, 1, 1, 1, 1, 1, 1,\n",
       "       1, 1, 1, 1, 1, 1, 1, 1, 1, 1, 1, 1, 1, 1, 1, 1, 1, 1, 1, 1, 1, 1,\n",
       "       1, 1, 1, 1, 1, 1, 1, 1, 1, 1, 1, 1, 1, 1, 1, 1, 1, 1, 1, 1, 1, 1,\n",
       "       1, 1, 1, 1, 1, 1, 1, 1, 1, 1, 1, 1, 1, 1, 1, 1, 1, 1, 1, 1, 1, 1,\n",
       "       1, 1, 1, 1, 1, 1, 1, 1, 1, 1, 1, 1, 1, 1, 1, 1, 1, 1, 1, 1, 1, 1,\n",
       "       1, 1, 1, 1, 1, 1, 1, 1, 1, 1, 1, 1, 1])"
      ]
     },
     "execution_count": 31,
     "metadata": {},
     "output_type": "execute_result"
    }
   ],
   "source": [
    "pred_label = np.argmin(dist_mat, axis=1)\n",
    "pred_label"
   ]
  },
  {
   "cell_type": "code",
   "execution_count": 32,
   "metadata": {},
   "outputs": [
    {
     "data": {
      "text/plain": [
       "array([[0, 0, 0, 0, 0, 0, 0, 0, 0, 0, 0, 0, 0, 0, 0, 1, 1, 1, 1, 1, 1, 1,\n",
       "        1],\n",
       "       [0, 0, 0, 0, 0, 0, 0, 0, 0, 0, 0, 0, 0, 0, 0, 1, 1, 1, 1, 1, 1, 1,\n",
       "        1],\n",
       "       [0, 0, 0, 0, 0, 0, 0, 0, 0, 0, 0, 0, 0, 0, 1, 1, 1, 1, 1, 1, 1, 1,\n",
       "        1],\n",
       "       [0, 0, 0, 0, 0, 0, 0, 0, 0, 0, 0, 0, 0, 0, 1, 1, 1, 1, 1, 1, 1, 1,\n",
       "        1],\n",
       "       [0, 0, 0, 0, 0, 0, 0, 0, 0, 0, 0, 0, 0, 0, 1, 1, 1, 1, 1, 1, 1, 1,\n",
       "        1],\n",
       "       [0, 0, 0, 0, 0, 0, 0, 0, 0, 0, 0, 0, 0, 0, 1, 1, 1, 1, 1, 1, 1, 1,\n",
       "        1],\n",
       "       [0, 0, 0, 0, 0, 0, 0, 0, 0, 0, 0, 0, 0, 1, 1, 1, 1, 1, 1, 1, 1, 1,\n",
       "        1],\n",
       "       [0, 0, 0, 0, 0, 0, 0, 0, 0, 0, 0, 0, 0, 1, 1, 1, 1, 1, 1, 1, 1, 1,\n",
       "        1],\n",
       "       [0, 0, 0, 0, 0, 0, 0, 0, 0, 0, 0, 0, 0, 1, 1, 1, 1, 1, 1, 1, 1, 1,\n",
       "        1],\n",
       "       [0, 0, 0, 0, 0, 0, 0, 0, 0, 0, 0, 0, 0, 1, 1, 1, 1, 1, 1, 1, 1, 1,\n",
       "        1],\n",
       "       [0, 0, 0, 0, 0, 0, 0, 0, 0, 0, 0, 0, 1, 1, 1, 1, 1, 1, 1, 1, 1, 1,\n",
       "        1],\n",
       "       [0, 0, 0, 0, 0, 0, 0, 0, 0, 0, 0, 0, 1, 1, 1, 1, 1, 1, 1, 1, 1, 1,\n",
       "        1],\n",
       "       [0, 0, 0, 0, 0, 0, 0, 0, 0, 0, 0, 0, 1, 1, 1, 1, 1, 1, 1, 1, 1, 1,\n",
       "        1]])"
      ]
     },
     "execution_count": 32,
     "metadata": {},
     "output_type": "execute_result"
    }
   ],
   "source": [
    "\n",
    "# reshape the idx (which contains the class label) into an image.\n",
    "decisionmap = pred_label.reshape(image_size, order='F')\n",
    "decisionmap"
   ]
  },
  {
   "cell_type": "code",
   "execution_count": 35,
   "metadata": {},
   "outputs": [
    {
     "data": {
      "image/png": "[encoded data removed]",
      "text/plain": [
       "<Figure size 864x864 with 1 Axes>"
      ]
     },
     "metadata": {
      "needs_background": "light"
     },
     "output_type": "display_data"
    }
   ],
   "source": [
    "#show the image, give each coordinate a color according to its class label\n",
    "plt.figure(figsize=(12,12))\n",
    "plt.imshow(decisionmap, extent=[xrange[0], xrange[1], yrange[0], yrange[1]], origin='lower')\n",
    "\n",
    "# plot the class training data.\n",
    "plt.plot(X[labels == 1, 0],X[labels == 1, 1], 'rx')\n",
    "plt.plot(X[labels == 2, 0],X[labels == 2, 1], 'go')\n",
    "\n",
    "l = plt.legend(('Class 1', 'Class 2'), loc=2)\n",
    "plt.gca().add_artist(l)\n",
    "\n",
    "# plot the class mean vector.\n",
    "m1, = plt.plot(sample_mean[0,0], sample_mean[0,1], 'rd', markersize=12, markerfacecolor='r', markeredgecolor='w')\n",
    "m2, = plt.plot(sample_mean[1,0], sample_mean[1,1], 'gd', markersize=12, markerfacecolor='g', markeredgecolor='w')\n",
    "\n",
    "# include legend for class mean vector\n",
    "l1 = plt.legend([m1,m2], ['Class 1 Mean', 'Class 2 Mean'], loc=4)\n",
    "\n",
    "plt.gca().add_artist(l1)\n",
    "\n",
    "plt.show()"
   ]
  }
 ],
 "metadata": {
  "kernelspec": {
   "display_name": "base",
   "language": "python",
   "name": "python3"
  },
  "language_info": {
   "codemirror_mode": {
    "name": "ipython",
    "version": 3
   },
   "file_extension": ".py",
   "mimetype": "text/x-python",
   "name": "python",
   "nbconvert_exporter": "python",
   "pygments_lexer": "ipython3",
   "version": "3.9.7"
  },
  "orig_nbformat": 4,
  "vscode": {
   "interpreter": {
    "hash": "50f04f9c372e3e4ad998ceaa432ec3e0fc7c72b7b7de183f6f6eb135299ff9d9"
   }
  }
 },
 "nbformat": 4,
 "nbformat_minor": 2
}
