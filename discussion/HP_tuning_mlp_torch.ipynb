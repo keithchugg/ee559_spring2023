{
 "cells": [
  {
   "attachments": {},
   "cell_type": "markdown",
   "metadata": {},
   "source": [
    "**Instructors**: Prof. Keith Chugg (chugg@usc.edu) & Prof. B. Keith Jenkins (jenkins@sipi.usc.edu)\n",
    "\n",
    "**Notebook**: Written by TA Chengwei\n",
    "\n",
    "Modified from:\n",
    "\n",
    "https://github.com/keithchugg/ee559_spring2023/blob/main/lecture/fmnist_mlp_torch.ipynb\n",
    "\n",
    "https://machinelearningmastery.com/how-to-grid-search-hyperparameters-for-pytorch-models/"
   ]
  },
  {
   "attachments": {},
   "cell_type": "markdown",
   "metadata": {},
   "source": [
    "# Hyper-parameter Tuning of MLP on MNIST (and Fashion MNIST) in PyTorch"
   ]
  },
  {
   "attachments": {},
   "cell_type": "markdown",
   "metadata": {},
   "source": [
    "In this notebook, we will first use PyTorch to train an ANN/MLP for the FMNIST dataset. \n",
    "\n",
    "Then we will tune the hyper-parameters to improve the performance, and see how the hyper-parameters affect the model.\n",
    "\n",
    "Finally, we use gridsearch in sklearn to find the best hyper-parameters for a model in pytorch.\n",
    "\n",
    "Make sure torch is installed (https://pytorch.org/)"
   ]
  },
  {
   "cell_type": "code",
   "execution_count": 1,
   "metadata": {},
   "outputs": [],
   "source": [
    "import torch\n",
    "import torch.nn as nn\n",
    "import torch.nn.functional as F\n",
    "import torch.optim as optim\n",
    "from tqdm import tqdm\n",
    "import matplotlib.pyplot as plt"
   ]
  },
  {
   "attachments": {},
   "cell_type": "markdown",
   "metadata": {},
   "source": [
    "# Read the Data\n",
    "First, let's get the data. Torchvision provides many built-in datasets including Fashion MNIST. Fashion MNIST is a dataset of 28x28 images of fashion items."
   ]
  },
  {
   "cell_type": "code",
   "execution_count": 80,
   "metadata": {},
   "outputs": [],
   "source": [
    "# All datasets are subclasses of torch.utils.data.Dataset i.e, they have __getitem__ and __len__ methods implemented\n",
    "from torchvision import datasets, transforms\n",
    "transform = transforms.Compose([transforms.ToTensor(), transforms.Normalize((0.5,), (0.5,)),]) # transforms.ToTensor() converts the image to a tensor and transforms.Normalize() normalizes the tensor\n",
    "trainset = datasets.FashionMNIST('~/.pytorch/F_MNIST_data/', download=True, train=True, transform=transform)\n",
    "testset = datasets.FashionMNIST('~/.pytorch/F_MNIST_data/', download=True, train=False, transform=transform)"
   ]
  },
  {
   "cell_type": "code",
   "execution_count": 3,
   "metadata": {},
   "outputs": [
    {
     "data": {
      "text/plain": [
       "{'T-shirt/top': 0,\n",
       " 'Trouser': 1,\n",
       " 'Pullover': 2,\n",
       " 'Dress': 3,\n",
       " 'Coat': 4,\n",
       " 'Sandal': 5,\n",
       " 'Shirt': 6,\n",
       " 'Sneaker': 7,\n",
       " 'Bag': 8,\n",
       " 'Ankle boot': 9}"
      ]
     },
     "execution_count": 3,
     "metadata": {},
     "output_type": "execute_result"
    }
   ],
   "source": [
    "testset.class_to_idx"
   ]
  },
  {
   "cell_type": "code",
   "execution_count": 4,
   "metadata": {},
   "outputs": [
    {
     "name": "stdout",
     "output_type": "stream",
     "text": [
      "torch.Size([1, 28, 28])\n",
      "9\n"
     ]
    }
   ],
   "source": [
    "image, label = trainset[0] \n",
    "print(image.shape) # torch.Size([1, 28, 28])\n",
    "print(label) "
   ]
  },
  {
   "attachments": {},
   "cell_type": "markdown",
   "metadata": {},
   "source": [
    "Fashion MNIST dataset comes as train and test sets, of sizes 60,000 and 10,000 respectively.\n",
    "If we want to use a validation set, we need to create it manually"
   ]
  },
  {
   "cell_type": "code",
   "execution_count": 5,
   "metadata": {},
   "outputs": [
    {
     "name": "stdout",
     "output_type": "stream",
     "text": [
      "Train set size: 50000, Validation set size: 10000, Test set size: 10000\n"
     ]
    }
   ],
   "source": [
    "trainset, valset = torch.utils.data.random_split(trainset, [50000, 10000])\n",
    "# Final sizes are 50000, 10000, 10000\n",
    "print(f'Train set size: {len(trainset)}, Validation set size: {len(valset)}, Test set size: {len(testset)}')"
   ]
  },
  {
   "attachments": {},
   "cell_type": "markdown",
   "metadata": {},
   "source": [
    "In PyTorch, data is loaded using data loaders, which are iterators over the dataset.\n",
    "Data Loaders need a batch size, which is the size of the data batch extracted in each iteration.\n",
    "We will create a dataloader for each data split."
   ]
  },
  {
   "attachments": {},
   "cell_type": "markdown",
   "metadata": {},
   "source": [
    "# ANN/MLP Model Definition\n",
    "Create a 2-layer neural network. In Pytorch, `nn.Module` is the base class for all neural network modules in PyTorch.\n",
    "Your models should also subclass this class"
   ]
  },
  {
   "cell_type": "code",
   "execution_count": 24,
   "metadata": {},
   "outputs": [],
   "source": [
    "# Parameters for the model\n",
    "n_pixels = 28 * 28\n",
    "n_classes = 10\n",
    "\n",
    "# Define the model\n",
    "class MLP(nn.Module):\n",
    "    def __init__(self, n_pixels, n_classes, n_hidden): # Define layers in the constructor\n",
    "        super().__init__()\n",
    "        self.fc1 = nn.Linear(n_pixels, n_hidden)\n",
    "        self.relu = nn.ReLU()\n",
    "        self.fc2 = nn.Linear(n_hidden, n_classes)\n",
    "        \n",
    "    def forward(self, x): # Define forward pass in the forward method\n",
    "        x = x.view(x.shape[0], -1)  #flatten into a 784 length tensor\n",
    "        x = self.relu(self.fc1(x))\n",
    "        x = self.fc2(x)\n",
    "        return x # note: no softmax, as this is included in the loss function in PyTorch"
   ]
  },
  {
   "attachments": {},
   "cell_type": "markdown",
   "metadata": {},
   "source": [
    "For multi-class classification, we use the cross entropy loss function. In pytorch, the input to `nn.CrossEntropyLoss` should be logits not probabilities. The loss function combines softmax with loss calculation for numerical stability. For the optimizer algorithm, we will use Adam, a very popular optimizer."
   ]
  },
  {
   "attachments": {},
   "cell_type": "markdown",
   "metadata": {},
   "source": [
    "# Train and validate (test) the Model\n",
    "Unlike Keras, in Pytorch we need to explicitly write the training functions. This includes iterating over data batches, forward and backward passes, loss caluclation and updating the weights.\n",
    "We will write two functions. One for trianing loops (to update the weights of the model) and one for validation loop (to evaluate performance)."
   ]
  },
  {
   "cell_type": "code",
   "execution_count": 56,
   "metadata": {},
   "outputs": [],
   "source": [
    "# Define function to call for each training epoch (one complete pass over the training set)\n",
    "def train(model, trainloader, criterion, optimizer, device):\n",
    "    model.train() # set model to training mode\n",
    "    running_loss = 0; running_acc = 0\n",
    "    # with tqdm(total=len(trainloader), desc=f\"Train\", unit=\"batch\") as pbar:\n",
    "    for n_batch, (images, labels) in enumerate(trainloader): # Iterate over batches\n",
    "        images, labels = images.to(device), labels.to(device) # Move batch to device\n",
    "        optimizer.zero_grad()\n",
    "        output = model(images) # Forward pass\n",
    "        loss = criterion(output, labels) # Compute loss\n",
    "        loss.backward() # Backward pass\n",
    "        optimizer.step() # Update weights\n",
    "        running_loss += loss.item()\n",
    "        running_acc += (output.argmax(1) == labels).float().mean().item()\n",
    "            # pbar.set_postfix({'loss': loss.item(), 'acc': 100. * running_acc / (n_batch+1)})\n",
    "            # pbar.update() # Update progress bar\n",
    "    return running_loss / len(trainloader), running_acc / len(trainloader) # return loss and accuracy for this epoch"
   ]
  },
  {
   "cell_type": "code",
   "execution_count": 57,
   "metadata": {},
   "outputs": [],
   "source": [
    "# Define function to call for each validation epoch (one complete pass over the validation set)\n",
    "def validate(model, valloader, criterion, device):\n",
    "    model.eval() # set model to evaluation mode (e.g. turn off dropout, batchnorm, etc.)\n",
    "    running_loss = 0; running_acc = 0\n",
    "    with torch.no_grad(): # no need to compute gradients for validation\n",
    "        # with tqdm(total=len(valloader), desc=f\"Eval\", unit=\"batch\") as pbar:\n",
    "        for n_batch, (images, labels) in enumerate(valloader): # Iterate over batches\n",
    "            images, labels = images.to(device), labels.to(device) # Move batch to device\n",
    "            output = model(images) # Forward pass\n",
    "            loss = criterion(output, labels) # Compute loss\n",
    "            running_loss += loss.item() \n",
    "            running_acc += (output.argmax(1) == labels).float().mean().item()\n",
    "                # pbar.set_postfix({'loss': loss.item(), 'acc': 100. * running_acc / (n_batch+1)})\n",
    "                # pbar.update() # Update progress bar\n",
    "    return running_loss / len(valloader), running_acc / len(valloader)  # return loss and accuracy for this epoch"
   ]
  },
  {
   "cell_type": "code",
   "execution_count": 66,
   "metadata": {},
   "outputs": [],
   "source": [
    "def train_valid_wrapper(batchsize = 128, n_hidden = 48, lr = 1e-2, reg_val = 1e-4, device = \"cpu\"):\n",
    "    # lr: the learning rate in TF is part of the optimizer.  Default is 1e-2\n",
    "    \n",
    "    # dataloader\n",
    "    trainloader = torch.utils.data.DataLoader(trainset, batch_size=batchsize, shuffle=True)\n",
    "    valloader = torch.utils.data.DataLoader(valset, batch_size=batchsize, shuffle=False)\n",
    "    # model\n",
    "    model = MLP(28 * 28, 10, n_hidden)\n",
    "    # loss function and optimier \n",
    "    criterion = nn.CrossEntropyLoss() # includes softmax (for numerical stability)\n",
    "    optimizer = optim.SGD(model.parameters(), lr=lr, weight_decay=reg_val)\n",
    "\n",
    "    # Run training and validation loop\n",
    "    # Save the best model based on validation accuracy\n",
    "    n_epochs = 30\n",
    "    best_acc = -1\n",
    "    train_loss_history = []; train_acc_history = []\n",
    "    val_loss_history = []; val_acc_history = []\n",
    "    for epoch in tqdm(range(n_epochs), unit=\"epoch\"): # Iterate over epochs\n",
    "        # print(f\"Epoch {epoch+1} of {n_epochs}\")\n",
    "        train_loss, train_acc  = train(model, trainloader, criterion, optimizer, device) # Train\n",
    "        val_loss, val_acc = validate(model, valloader, criterion, device) # Validate\n",
    "        train_loss_history.append(train_loss); train_acc_history.append(train_acc)\n",
    "        val_loss_history.append(val_loss); val_acc_history.append(val_acc)\n",
    "        if val_acc > best_acc: # Save best model\n",
    "            best_acc = val_acc\n",
    "            torch.save(model, \"best_model.pt\")\n",
    "            # torch.save(model.state_dict(), \"best_model.pt\") # saving model parameters (\"state_dict\") saves memory and is faster than saving the entire model\n",
    "    return train_loss_history, train_acc_history, val_loss_history, val_acc_history"
   ]
  },
  {
   "attachments": {},
   "cell_type": "markdown",
   "metadata": {},
   "source": [
    "let batchsize = 32, n_hidden = 48, lr = 1e-2, reg_val = 1e-4"
   ]
  },
  {
   "cell_type": "code",
   "execution_count": 64,
   "metadata": {},
   "outputs": [
    {
     "name": "stderr",
     "output_type": "stream",
     "text": [
      "epoch: 100%|██████████| 30/30 [04:29<00:00,  8.99s/epoch]\n"
     ]
    }
   ],
   "source": [
    "batchsize = 32\n",
    "train_loss_history, train_acc_history, val_loss_history, val_acc_history = \\\n",
    "    train_valid_wrapper(batchsize = batchsize, n_hidden = 48, lr = 1e-2, reg_val = 1e-4, device = \"cpu\")"
   ]
  },
  {
   "cell_type": "code",
   "execution_count": 65,
   "metadata": {},
   "outputs": [
    {
     "name": "stdout",
     "output_type": "stream",
     "text": [
      "Test accuracy: 0.8744\n"
     ]
    }
   ],
   "source": [
    "# Load the best model and evaluate on test set\n",
    "model = torch.load(\"best_model.pt\")\n",
    "testloader = torch.utils.data.DataLoader(testset, batch_size=batchsize, shuffle=False)\n",
    "test_loss, test_acc = validate(model, testloader, criterion=nn.CrossEntropyLoss(), device='cpu')\n",
    "print(f\"Test accuracy: {test_acc:.4f}\")"
   ]
  },
  {
   "attachments": {},
   "cell_type": "markdown",
   "metadata": {},
   "source": [
    "### Batch size\n",
    "let batch size be larger, say batchsize = 512. Keep other hyperparameters the same"
   ]
  },
  {
   "cell_type": "code",
   "execution_count": 68,
   "metadata": {},
   "outputs": [
    {
     "name": "stderr",
     "output_type": "stream",
     "text": [
      "100%|██████████| 30/30 [03:10<00:00,  6.34s/epoch]\n"
     ]
    }
   ],
   "source": [
    "batchsize = 512\n",
    "train_loss_history2, train_acc_history2, val_loss_history2, val_acc_history2 = \\\n",
    "    train_valid_wrapper(batchsize = batchsize, n_hidden = 48, lr = 1e-2, reg_val = 1e-4, device = \"cpu\")"
   ]
  },
  {
   "cell_type": "code",
   "execution_count": 69,
   "metadata": {},
   "outputs": [
    {
     "name": "stdout",
     "output_type": "stream",
     "text": [
      "Test accuracy: 0.8230\n"
     ]
    }
   ],
   "source": [
    "# Load the best model and evaluate on test set\n",
    "model = torch.load(\"best_model.pt\")\n",
    "testloader = torch.utils.data.DataLoader(testset, batch_size=batchsize, shuffle=False)\n",
    "test_loss, test_acc = validate(model, testloader, criterion=nn.CrossEntropyLoss(), device='cpu')\n",
    "print(f\"Test accuracy: {test_acc:.4f}\")"
   ]
  },
  {
   "attachments": {},
   "cell_type": "markdown",
   "metadata": {},
   "source": [
    "**Effects of batch size**\n",
    "\n",
    "In this experiment, large batch size leads to \n",
    "\n",
    "lower performance (accuracy)\n",
    "\n",
    "faster speed"
   ]
  },
  {
   "attachments": {},
   "cell_type": "markdown",
   "metadata": {},
   "source": [
    "### Learning rate\n",
    "let's increase the learning rate, lr = 1e-1"
   ]
  },
  {
   "cell_type": "code",
   "execution_count": 77,
   "metadata": {},
   "outputs": [
    {
     "name": "stderr",
     "output_type": "stream",
     "text": [
      "100%|██████████| 30/30 [04:34<00:00,  9.14s/epoch]\n"
     ]
    }
   ],
   "source": [
    "batchsize = 32\n",
    "n_hidden = 48\n",
    "lr = 1e-1\n",
    "reg_val = 1e-4\n",
    "\n",
    "train_loss_history3, train_acc_history3, val_loss_history3, val_acc_history3 = \\\n",
    "    train_valid_wrapper(batchsize = batchsize, n_hidden = n_hidden, lr = lr, reg_val = reg_val, device = \"cpu\")"
   ]
  },
  {
   "cell_type": "code",
   "execution_count": 78,
   "metadata": {},
   "outputs": [
    {
     "name": "stdout",
     "output_type": "stream",
     "text": [
      "Test accuracy: 0.8732\n"
     ]
    }
   ],
   "source": [
    "# Load the best model and evaluate on test set\n",
    "model = torch.load(\"best_model.pt\")\n",
    "testloader = torch.utils.data.DataLoader(testset, batch_size=batchsize, shuffle=False)\n",
    "test_loss, test_acc = validate(model, testloader, criterion=nn.CrossEntropyLoss(), device='cpu')\n",
    "print(f\"Test accuracy: {test_acc:.4f}\")"
   ]
  },
  {
   "cell_type": "code",
   "execution_count": 79,
   "metadata": {},
   "outputs": [
    {
     "data": {
      "text/plain": [
       "<matplotlib.legend.Legend at 0x7fca5951b610>"
      ]
     },
     "execution_count": 79,
     "metadata": {},
     "output_type": "execute_result"
    },
    {
     "data": {
      "image/png": "[encoded data removed]",
      "text/plain": [
       "<Figure size 640x480 with 1 Axes>"
      ]
     },
     "metadata": {},
     "output_type": "display_data"
    },
    {
     "data": {
      "image/png": "[encoded data removed]",
      "text/plain": [
       "<Figure size 640x480 with 1 Axes>"
      ]
     },
     "metadata": {},
     "output_type": "display_data"
    }
   ],
   "source": [
    "n_epochs = 30\n",
    "epochs = torch.arange(n_epochs)\n",
    "\n",
    "# plot training loss\n",
    "plt.figure()\n",
    "plt.plot(epochs, train_loss_history, label='train_loss: lr=1e-2')\n",
    "plt.plot(epochs, train_loss_history3, label='train_loss: lr=1e-1')\n",
    "plt.xlabel('epochs')\n",
    "plt.ylabel('Multiclass Cross Entropy Loss')\n",
    "plt.title(f'Loss for different learning rate')\n",
    "plt.legend()\n",
    "\n",
    "# plot validation loss\n",
    "plt.figure()\n",
    "plt.plot(epochs, val_loss_history, label='val_loss: lr=1e-2')\n",
    "plt.plot(epochs, val_loss_history3, label='val_loss: lr=1e-1')\n",
    "plt.xlabel('epochs')\n",
    "plt.ylabel('Multiclass Cross Entropy Loss')\n",
    "plt.title(f'Loss for different learning rate')\n",
    "plt.legend()"
   ]
  },
  {
   "attachments": {},
   "cell_type": "markdown",
   "metadata": {},
   "source": [
    "With larger learning rate, the loss function approachs faster to the (local) optimal point.\n",
    "\n",
    "There is oscillation on validation set. That is learning rate is too large, and optimizer fluctuate around the optimal."
   ]
  },
  {
   "attachments": {},
   "cell_type": "markdown",
   "metadata": {},
   "source": [
    "### Search the best parameters for your pytorch model"
   ]
  },
  {
   "attachments": {},
   "cell_type": "markdown",
   "metadata": {},
   "source": [
    "There are several packages that help you to search the best hyper-parameters.\n",
    "\n",
    "**RAY TUNE** : https://docs.ray.io/en/latest/tune/index.html\n",
    "\n",
    "**SKORCH** :A scikit-learn compatible neural network library that wraps PyTorch. https://github.com/skorch-dev/skorch\n",
    "\n",
    "The following show a example of SKORCH"
   ]
  },
  {
   "cell_type": "code",
   "execution_count": 86,
   "metadata": {},
   "outputs": [],
   "source": [
    "import numpy as np\n",
    "import torch\n",
    "import torch.nn as nn\n",
    "import torch.nn.init as init\n",
    "import torch.optim as optim\n",
    "from skorch import NeuralNetClassifier\n",
    "from sklearn.model_selection import GridSearchCV"
   ]
  },
  {
   "cell_type": "code",
   "execution_count": 111,
   "metadata": {},
   "outputs": [],
   "source": [
    "# Define the model\n",
    "class MLP(nn.Module):\n",
    "    def __init__(self, n_hidden): # Define layers in the constructor\n",
    "        super().__init__()\n",
    "        self.fc1 = nn.Linear(28 * 28, n_hidden)\n",
    "        self.relu = nn.ReLU()\n",
    "        self.fc2 = nn.Linear(n_hidden, 10)\n",
    "        self.softmax = nn.Softmax(dim=-1)\n",
    "        \n",
    "    def forward(self, x): # Define forward pass in the forward method\n",
    "        x = x.view(x.shape[0], -1)  #flatten into a 784 length tensor\n",
    "        x = self.relu(self.fc1(x))\n",
    "        x = self.fc2(x)\n",
    "        return x # note: no softmax, as this is included in the loss function in PyTorch"
   ]
  },
  {
   "cell_type": "code",
   "execution_count": 113,
   "metadata": {},
   "outputs": [
    {
     "name": "stdout",
     "output_type": "stream",
     "text": [
      "  epoch    train_loss    valid_acc    valid_loss     dur\n",
      "-------  ------------  -----------  ------------  ------\n",
      "      1        \u001b[36m2.3887\u001b[0m       \u001b[32m0.1000\u001b[0m        \u001b[35m2.3220\u001b[0m  1.0798\n",
      "  epoch    train_loss    valid_acc    valid_loss     dur\n",
      "-------  ------------  -----------  ------------  ------\n",
      "      1        \u001b[36m2.0406\u001b[0m       \u001b[32m0.2172\u001b[0m        \u001b[35m1.9402\u001b[0m  1.0916\n",
      "  epoch    train_loss    valid_acc    valid_loss     dur\n",
      "-------  ------------  -----------  ------------  ------\n",
      "      1        \u001b[36m2.0750\u001b[0m       \u001b[32m0.2401\u001b[0m        \u001b[35m1.9602\u001b[0m  1.1959\n",
      "  epoch    train_loss    valid_acc    valid_loss     dur\n",
      "-------  ------------  -----------  ------------  ------\n",
      "      1        \u001b[36m0.8209\u001b[0m       \u001b[32m0.7934\u001b[0m        \u001b[35m0.5802\u001b[0m  1.1355\n",
      "  epoch    train_loss    valid_acc    valid_loss     dur\n",
      "-------  ------------  -----------  ------------  ------\n",
      "      1        \u001b[36m0.8379\u001b[0m       \u001b[32m0.7907\u001b[0m        \u001b[35m0.5945\u001b[0m  1.1980\n",
      "  epoch    train_loss    valid_acc    valid_loss     dur\n",
      "-------  ------------  -----------  ------------  ------\n",
      "      1        \u001b[36m0.8816\u001b[0m       \u001b[32m0.7885\u001b[0m        \u001b[35m0.5883\u001b[0m  1.0656\n",
      "  epoch    train_loss    valid_acc    valid_loss     dur\n",
      "-------  ------------  -----------  ------------  ------\n",
      "      1        \u001b[36m0.8163\u001b[0m       \u001b[32m0.8027\u001b[0m        \u001b[35m0.5575\u001b[0m  1.1870\n",
      "  epoch    train_loss    valid_acc    valid_loss     dur\n",
      "-------  ------------  -----------  ------------  ------\n",
      "      1        \u001b[36m0.8099\u001b[0m       \u001b[32m0.8007\u001b[0m        \u001b[35m0.5669\u001b[0m  1.3364\n",
      "  epoch    train_loss    valid_acc    valid_loss     dur\n",
      "-------  ------------  -----------  ------------  ------\n",
      "      1        \u001b[36m0.7845\u001b[0m       \u001b[32m0.7996\u001b[0m        \u001b[35m0.5733\u001b[0m  1.3920\n",
      "      2        \u001b[36m1.8801\u001b[0m       \u001b[32m0.2359\u001b[0m        \u001b[35m1.8369\u001b[0m  0.8155\n",
      "      2        \u001b[36m2.0753\u001b[0m       \u001b[32m0.1684\u001b[0m        \u001b[35m1.9637\u001b[0m  0.9269\n",
      "  epoch    train_loss    valid_acc    valid_loss     dur\n",
      "-------  ------------  -----------  ------------  ------\n",
      "      1        \u001b[36m0.7963\u001b[0m       \u001b[32m0.7990\u001b[0m        \u001b[35m0.5692\u001b[0m  1.5807\n",
      "      2        \u001b[36m1.9177\u001b[0m       \u001b[32m0.2686\u001b[0m        \u001b[35m1.8778\u001b[0m  0.9453\n",
      "      2        \u001b[36m0.5381\u001b[0m       \u001b[32m0.8173\u001b[0m        \u001b[35m0.5144\u001b[0m  0.8669\n",
      "      2        \u001b[36m0.5409\u001b[0m       \u001b[32m0.8187\u001b[0m        \u001b[35m0.5120\u001b[0m  1.0168\n",
      "      2        \u001b[36m0.5456\u001b[0m       \u001b[32m0.8221\u001b[0m        \u001b[35m0.5031\u001b[0m  1.1261\n",
      "      2        \u001b[36m0.5242\u001b[0m       \u001b[32m0.8244\u001b[0m        \u001b[35m0.4996\u001b[0m  1.2528\n",
      "      3        \u001b[36m1.8014\u001b[0m       \u001b[32m0.2925\u001b[0m        \u001b[35m1.7804\u001b[0m  0.9534\n",
      "      2        \u001b[36m0.5321\u001b[0m       \u001b[32m0.8216\u001b[0m        \u001b[35m0.5063\u001b[0m  1.1955\n",
      "      2        \u001b[36m0.5281\u001b[0m       \u001b[32m0.8283\u001b[0m        \u001b[35m0.5001\u001b[0m  1.1925\n",
      "      3        \u001b[36m1.8399\u001b[0m       \u001b[32m0.2823\u001b[0m        \u001b[35m1.7986\u001b[0m  0.8779\n",
      "      3        \u001b[36m1.8965\u001b[0m       \u001b[32m0.2584\u001b[0m        \u001b[35m1.8297\u001b[0m  1.0204\n",
      "      2        \u001b[36m0.5231\u001b[0m       \u001b[32m0.8166\u001b[0m        \u001b[35m0.5067\u001b[0m  1.2440\n",
      "      3        \u001b[36m0.4895\u001b[0m       \u001b[32m0.8334\u001b[0m        \u001b[35m0.4754\u001b[0m  1.1011\n",
      "      3        \u001b[36m0.4895\u001b[0m       \u001b[32m0.8353\u001b[0m        \u001b[35m0.4738\u001b[0m  1.1557\n",
      "      3        \u001b[36m0.4899\u001b[0m       \u001b[32m0.8321\u001b[0m        \u001b[35m0.4714\u001b[0m  1.0170\n",
      "      4        \u001b[36m1.7560\u001b[0m       0.2707        \u001b[35m1.7439\u001b[0m  0.9390\n",
      "      4        \u001b[36m1.7656\u001b[0m       \u001b[32m0.2865\u001b[0m        \u001b[35m1.7349\u001b[0m  0.8681\n",
      "      4        \u001b[36m1.7776\u001b[0m       \u001b[32m0.2604\u001b[0m        \u001b[35m1.7423\u001b[0m  0.9600\n",
      "      3        \u001b[36m0.4755\u001b[0m       \u001b[32m0.8383\u001b[0m        \u001b[35m0.4690\u001b[0m  1.3371\n",
      "      3        \u001b[36m0.4824\u001b[0m       \u001b[32m0.8324\u001b[0m        \u001b[35m0.4688\u001b[0m  1.3398\n",
      "      4        \u001b[36m0.4623\u001b[0m       \u001b[32m0.8391\u001b[0m        \u001b[35m0.4545\u001b[0m  1.0407\n",
      "      3        \u001b[36m0.4789\u001b[0m       0.8283        \u001b[35m0.4830\u001b[0m  1.4158\n",
      "      4        \u001b[36m0.4633\u001b[0m       \u001b[32m0.8420\u001b[0m        \u001b[35m0.4581\u001b[0m  1.0598\n",
      "      5        \u001b[36m1.7108\u001b[0m       \u001b[32m0.3039\u001b[0m        \u001b[35m1.6887\u001b[0m  0.7621\n",
      "      5        \u001b[36m1.7243\u001b[0m       \u001b[32m0.3182\u001b[0m        \u001b[35m1.7159\u001b[0m  0.8115\n",
      "      3        \u001b[36m0.4749\u001b[0m       \u001b[32m0.8411\u001b[0m        \u001b[35m0.4579\u001b[0m  1.4330\n",
      "      4        \u001b[36m0.4609\u001b[0m       \u001b[32m0.8427\u001b[0m        \u001b[35m0.4506\u001b[0m  1.3128\n",
      "      5        \u001b[36m1.7172\u001b[0m       \u001b[32m0.2771\u001b[0m        \u001b[35m1.6970\u001b[0m  1.0871\n",
      "      4        \u001b[36m0.4499\u001b[0m       \u001b[32m0.8421\u001b[0m        \u001b[35m0.4440\u001b[0m  1.3363\n",
      "      5        \u001b[36m0.4440\u001b[0m       \u001b[32m0.8439\u001b[0m        \u001b[35m0.4490\u001b[0m  1.3483\n",
      "      6        \u001b[36m1.6970\u001b[0m       \u001b[32m0.3711\u001b[0m        \u001b[35m1.6847\u001b[0m  1.0740\n",
      "      6        \u001b[36m1.6695\u001b[0m       \u001b[32m0.3044\u001b[0m        \u001b[35m1.6564\u001b[0m  1.2095\n",
      "      4        \u001b[36m0.4512\u001b[0m       \u001b[32m0.8468\u001b[0m        \u001b[35m0.4435\u001b[0m  1.4426\n",
      "      5        \u001b[36m0.4447\u001b[0m       0.8420        \u001b[35m0.4525\u001b[0m  1.3269\n",
      "      4        \u001b[36m0.4546\u001b[0m       \u001b[32m0.8411\u001b[0m        \u001b[35m0.4468\u001b[0m  1.6928\n",
      "      6        \u001b[36m1.6810\u001b[0m       \u001b[32m0.2988\u001b[0m        \u001b[35m1.6686\u001b[0m  0.9914\n",
      "      5        \u001b[36m0.4411\u001b[0m       \u001b[32m0.8446\u001b[0m        \u001b[35m0.4449\u001b[0m  1.3131\n",
      "      4        \u001b[36m0.4467\u001b[0m       0.8409        \u001b[35m0.4494\u001b[0m  1.6661\n",
      "      6        \u001b[36m0.4298\u001b[0m       0.8435        \u001b[35m0.4471\u001b[0m  0.9013\n",
      "      7        \u001b[36m1.6393\u001b[0m       \u001b[32m0.3299\u001b[0m        \u001b[35m1.6283\u001b[0m  0.8744\n",
      "      5        \u001b[36m0.4289\u001b[0m       0.8404        \u001b[35m0.4427\u001b[0m  1.2616\n",
      "      7        \u001b[36m1.6552\u001b[0m       0.3584        \u001b[35m1.6416\u001b[0m  1.1398\n",
      "      6        \u001b[36m0.4313\u001b[0m       \u001b[32m0.8500\u001b[0m        \u001b[35m0.4345\u001b[0m  1.0837\n",
      "      5        \u001b[36m0.4338\u001b[0m       \u001b[32m0.8492\u001b[0m        \u001b[35m0.4311\u001b[0m  1.2165\n",
      "      7        \u001b[36m1.6561\u001b[0m       0.2988        \u001b[35m1.6456\u001b[0m  1.0606\n",
      "      5        \u001b[36m0.4335\u001b[0m       \u001b[32m0.8421\u001b[0m        \u001b[35m0.4377\u001b[0m  1.2358\n",
      "      6        \u001b[36m0.4279\u001b[0m       \u001b[32m0.8468\u001b[0m        \u001b[35m0.4423\u001b[0m  1.1060\n",
      "      8        \u001b[36m1.6167\u001b[0m       \u001b[32m0.3509\u001b[0m        \u001b[35m1.6114\u001b[0m  1.0459\n",
      "      7        \u001b[36m0.4191\u001b[0m       \u001b[32m0.8514\u001b[0m        \u001b[35m0.4265\u001b[0m  1.1510\n",
      "      8        \u001b[36m1.6232\u001b[0m       0.3591        \u001b[35m1.6194\u001b[0m  1.0427\n",
      "      7        \u001b[36m0.4213\u001b[0m       0.8490        0.4352  0.9630\n",
      "      6        \u001b[36m0.4155\u001b[0m       \u001b[32m0.8516\u001b[0m        \u001b[35m0.4224\u001b[0m  1.2181\n",
      "      8        \u001b[36m1.6377\u001b[0m       0.2958        \u001b[35m1.6291\u001b[0m  0.9409\n",
      "      5        \u001b[36m0.4272\u001b[0m       \u001b[32m0.8499\u001b[0m        \u001b[35m0.4321\u001b[0m  1.7554\n",
      "      6        \u001b[36m0.4183\u001b[0m       \u001b[32m0.8548\u001b[0m        \u001b[35m0.4245\u001b[0m  1.1035\n",
      "      6        \u001b[36m0.4182\u001b[0m       \u001b[32m0.8482\u001b[0m        \u001b[35m0.4257\u001b[0m  1.0525\n",
      "      7        \u001b[36m0.4163\u001b[0m       0.8464        \u001b[35m0.4290\u001b[0m  1.0131\n",
      "      9        \u001b[36m1.5990\u001b[0m       0.3504        \u001b[35m1.5939\u001b[0m  0.9785\n",
      "      9        \u001b[36m1.6034\u001b[0m       0.3593        \u001b[35m1.6051\u001b[0m  0.8961\n",
      "      8        \u001b[36m0.4123\u001b[0m       0.8449        \u001b[35m0.4339\u001b[0m  0.9223\n",
      "      8        \u001b[36m0.4089\u001b[0m       \u001b[32m0.8545\u001b[0m        \u001b[35m0.4252\u001b[0m  1.1166\n",
      "      9        \u001b[36m1.6227\u001b[0m       0.2936        \u001b[35m1.6159\u001b[0m  0.9619\n",
      "      8        \u001b[36m0.4077\u001b[0m       \u001b[32m0.8494\u001b[0m        \u001b[35m0.4263\u001b[0m  0.9483\n",
      "      7        \u001b[36m0.4068\u001b[0m       \u001b[32m0.8570\u001b[0m        \u001b[35m0.4119\u001b[0m  1.1866\n",
      "      7        \u001b[36m0.4019\u001b[0m       \u001b[32m0.8520\u001b[0m        \u001b[35m0.4139\u001b[0m  1.3927\n",
      "      7        \u001b[36m0.4056\u001b[0m       \u001b[32m0.8496\u001b[0m        \u001b[35m0.4212\u001b[0m  1.2945\n",
      "     10        \u001b[36m1.5857\u001b[0m       \u001b[32m0.3605\u001b[0m        \u001b[35m1.5827\u001b[0m  0.8718\n",
      "     10        \u001b[36m1.5899\u001b[0m       0.3649        \u001b[35m1.5978\u001b[0m  0.7899\n",
      "      6        \u001b[36m0.4127\u001b[0m       \u001b[32m0.8541\u001b[0m        \u001b[35m0.4192\u001b[0m  1.7297\n",
      "      9        \u001b[36m0.4004\u001b[0m       0.8501        \u001b[35m0.4191\u001b[0m  1.0007\n",
      "      9        \u001b[36m0.4050\u001b[0m       \u001b[32m0.8525\u001b[0m        \u001b[35m0.4301\u001b[0m  1.1417\n",
      "     10        \u001b[36m1.6105\u001b[0m       \u001b[32m0.3215\u001b[0m        \u001b[35m1.6044\u001b[0m  1.0447\n",
      "      9        \u001b[36m0.4003\u001b[0m       \u001b[32m0.8511\u001b[0m        \u001b[35m0.4201\u001b[0m  1.0400\n",
      "      8        \u001b[36m0.3952\u001b[0m       \u001b[32m0.8601\u001b[0m        \u001b[35m0.4028\u001b[0m  1.2951\n",
      "      8        \u001b[36m0.3912\u001b[0m       \u001b[32m0.8560\u001b[0m        \u001b[35m0.4114\u001b[0m  1.2826\n",
      "     11        \u001b[36m1.5793\u001b[0m       0.3678        \u001b[35m1.5845\u001b[0m  1.1250\n",
      "     11        \u001b[36m1.5738\u001b[0m       0.3576        \u001b[35m1.5742\u001b[0m  1.1507\n",
      "      8        \u001b[36m0.3953\u001b[0m       \u001b[32m0.8545\u001b[0m        \u001b[35m0.4095\u001b[0m  1.3841\n",
      "     10        \u001b[36m0.3919\u001b[0m       0.8510        \u001b[35m0.4177\u001b[0m  1.1504\n",
      "     11        \u001b[36m1.5992\u001b[0m       0.3051        \u001b[35m1.5951\u001b[0m  0.9545\n",
      "     10        \u001b[36m0.3975\u001b[0m       0.8522        \u001b[35m0.4232\u001b[0m  1.1056\n",
      "      7        \u001b[36m0.3991\u001b[0m       \u001b[32m0.8542\u001b[0m        \u001b[35m0.4170\u001b[0m  1.4023\n",
      "     10        \u001b[36m0.3922\u001b[0m       \u001b[32m0.8520\u001b[0m        \u001b[35m0.4179\u001b[0m  1.0141\n",
      "     12        \u001b[36m1.5705\u001b[0m       0.3593        \u001b[35m1.5768\u001b[0m  0.9830\n",
      "      9        \u001b[36m0.3814\u001b[0m       \u001b[32m0.8599\u001b[0m        \u001b[35m0.4022\u001b[0m  1.1601\n",
      "     12        \u001b[36m1.5634\u001b[0m       \u001b[32m0.3626\u001b[0m        \u001b[35m1.5739\u001b[0m  1.0878\n",
      "      9        \u001b[36m0.3860\u001b[0m       \u001b[32m0.8640\u001b[0m        \u001b[35m0.3944\u001b[0m  1.2319\n",
      "     12        \u001b[36m1.5891\u001b[0m       0.3008        \u001b[35m1.5895\u001b[0m  0.9914\n",
      "     11        \u001b[36m0.3861\u001b[0m       0.8542        \u001b[35m0.4143\u001b[0m  1.1319\n",
      "      9        \u001b[36m0.3860\u001b[0m       \u001b[32m0.8552\u001b[0m        \u001b[35m0.4070\u001b[0m  1.3092\n",
      "     11        \u001b[36m0.3910\u001b[0m       \u001b[32m0.8564\u001b[0m        \u001b[35m0.4141\u001b[0m  1.1855\n",
      "     11        \u001b[36m0.3869\u001b[0m       0.8518        0.4209  1.0569\n",
      "     13        \u001b[36m1.5625\u001b[0m       0.3643        \u001b[35m1.5680\u001b[0m  0.8015\n",
      "      8        \u001b[36m0.3883\u001b[0m       \u001b[32m0.8608\u001b[0m        \u001b[35m0.4006\u001b[0m  1.5276\n",
      "     13        \u001b[36m1.5548\u001b[0m       0.3554        \u001b[35m1.5597\u001b[0m  1.0713\n",
      "     10        \u001b[36m0.3738\u001b[0m       \u001b[32m0.8636\u001b[0m        \u001b[35m0.3965\u001b[0m  1.0893\n",
      "     13        \u001b[36m1.5797\u001b[0m       0.3113        \u001b[35m1.5788\u001b[0m  0.8944\n",
      "     10        \u001b[36m0.3774\u001b[0m       0.8632        \u001b[35m0.3936\u001b[0m  1.2497\n",
      "     12        \u001b[36m0.3783\u001b[0m       0.8541        \u001b[35m0.4098\u001b[0m  0.9944\n",
      "     12        \u001b[36m0.3809\u001b[0m       0.8512        \u001b[35m0.4126\u001b[0m  0.8973\n",
      "     10        \u001b[36m0.3782\u001b[0m       \u001b[32m0.8576\u001b[0m        \u001b[35m0.3997\u001b[0m  1.2161\n",
      "     12        \u001b[36m0.3861\u001b[0m       0.8552        \u001b[35m0.4136\u001b[0m  1.1381\n",
      "     14        \u001b[36m1.5548\u001b[0m       0.3680        \u001b[35m1.5639\u001b[0m  0.9668\n",
      "     14        \u001b[36m1.5712\u001b[0m       0.3211        \u001b[35m1.5694\u001b[0m  0.8810\n",
      "     14        \u001b[36m1.5469\u001b[0m       0.3479        1.5612  0.9735\n",
      "     13        \u001b[36m0.3727\u001b[0m       0.8488        0.4191  0.8221\n",
      "      9        \u001b[36m0.3774\u001b[0m       0.8558        0.4102  1.4766\n",
      "     15        \u001b[36m1.5480\u001b[0m       0.3536        \u001b[35m1.5571\u001b[0m  0.8178\n",
      "     11        \u001b[36m0.3659\u001b[0m       0.8634        \u001b[35m0.3877\u001b[0m  1.4126\n",
      "     11        \u001b[36m0.3691\u001b[0m       \u001b[32m0.8656\u001b[0m        \u001b[35m0.3856\u001b[0m  1.2363\n",
      "     13        \u001b[36m0.3752\u001b[0m       \u001b[32m0.8542\u001b[0m        \u001b[35m0.4105\u001b[0m  1.2964\n",
      "     15        \u001b[36m1.5631\u001b[0m       \u001b[32m0.3299\u001b[0m        \u001b[35m1.5592\u001b[0m  0.8460\n",
      "     13        \u001b[36m0.3807\u001b[0m       0.8555        \u001b[35m0.4111\u001b[0m  1.2321\n",
      "     15        \u001b[36m1.5402\u001b[0m       \u001b[32m0.3683\u001b[0m        \u001b[35m1.5514\u001b[0m  1.0299\n",
      "     11        \u001b[36m0.3701\u001b[0m       \u001b[32m0.8608\u001b[0m        \u001b[35m0.3930\u001b[0m  1.5220\n",
      "     14        \u001b[36m0.3666\u001b[0m       \u001b[32m0.8600\u001b[0m        \u001b[35m0.4016\u001b[0m  1.1035\n",
      "     16        \u001b[36m1.5412\u001b[0m       0.3656        \u001b[35m1.5495\u001b[0m  0.9925\n",
      "     14        \u001b[36m0.3693\u001b[0m       0.8475        0.4246  0.9879\n",
      "     16        \u001b[36m1.5555\u001b[0m       \u001b[32m0.3381\u001b[0m        \u001b[35m1.5546\u001b[0m  0.9175\n",
      "     12        \u001b[36m0.3589\u001b[0m       \u001b[32m0.8644\u001b[0m        \u001b[35m0.3869\u001b[0m  1.2525\n",
      "     10        \u001b[36m0.3687\u001b[0m       \u001b[32m0.8680\u001b[0m        \u001b[35m0.3838\u001b[0m  1.3444\n",
      "     12        \u001b[36m0.3615\u001b[0m       0.8644        \u001b[35m0.3853\u001b[0m  1.3338\n",
      "     16        \u001b[36m1.5332\u001b[0m       \u001b[32m0.3734\u001b[0m        \u001b[35m1.5408\u001b[0m  0.8901\n",
      "     14        \u001b[36m0.3754\u001b[0m       \u001b[32m0.8608\u001b[0m        \u001b[35m0.4048\u001b[0m  1.2603\n",
      "     15        \u001b[36m0.3621\u001b[0m       0.8568        0.4029  1.2456\n",
      "     17        \u001b[36m1.5354\u001b[0m       0.3459        \u001b[35m1.5442\u001b[0m  1.0092\n",
      "     12        \u001b[36m0.3639\u001b[0m       0.8594        0.3974  1.3885\n",
      "     17        \u001b[36m1.5485\u001b[0m       0.3279        \u001b[35m1.5471\u001b[0m  0.9105\n",
      "     15        \u001b[36m0.3661\u001b[0m       \u001b[32m0.8564\u001b[0m        \u001b[35m0.4075\u001b[0m  1.0229\n",
      "     17        \u001b[36m1.5286\u001b[0m       0.3564        \u001b[35m1.5361\u001b[0m  0.8754\n",
      "     13        \u001b[36m0.3532\u001b[0m       0.8598        0.3917  1.3872\n",
      "     13        \u001b[36m0.3556\u001b[0m       \u001b[32m0.8668\u001b[0m        \u001b[35m0.3846\u001b[0m  1.3079\n",
      "     15        \u001b[36m0.3710\u001b[0m       0.8581        \u001b[35m0.4042\u001b[0m  1.0300\n",
      "     11        \u001b[36m0.3611\u001b[0m       0.8671        \u001b[35m0.3815\u001b[0m  1.6674\n",
      "     18        \u001b[36m1.5286\u001b[0m       0.3661        \u001b[35m1.5385\u001b[0m  0.9672\n",
      "     16        \u001b[36m0.3575\u001b[0m       \u001b[32m0.8606\u001b[0m        \u001b[35m0.3915\u001b[0m  1.0637\n",
      "     13        \u001b[36m0.3569\u001b[0m       \u001b[32m0.8620\u001b[0m        0.3955  1.0218\n",
      "     18        \u001b[36m1.5422\u001b[0m       0.3372        \u001b[35m1.5413\u001b[0m  0.9902\n",
      "     16        \u001b[36m0.3611\u001b[0m       \u001b[32m0.8599\u001b[0m        \u001b[35m0.3978\u001b[0m  0.9782\n",
      "     18        \u001b[36m1.5236\u001b[0m       0.3601        \u001b[35m1.5330\u001b[0m  0.9709\n",
      "     16        \u001b[36m0.3665\u001b[0m       0.8581        0.4083  1.0360\n",
      "     19        \u001b[36m1.5226\u001b[0m       0.3645        \u001b[35m1.5320\u001b[0m  0.9499\n",
      "     14        \u001b[36m0.3465\u001b[0m       0.8644        0.3907  1.3734\n",
      "     14        \u001b[36m0.3498\u001b[0m       0.8645        0.3867  1.3527\n",
      "     19        \u001b[36m1.5364\u001b[0m       0.3341        \u001b[35m1.5411\u001b[0m  1.0226\n",
      "     19        \u001b[36m1.5187\u001b[0m       \u001b[32m0.3752\u001b[0m        \u001b[35m1.5296\u001b[0m  1.0184\n",
      "     17        \u001b[36m0.3538\u001b[0m       0.8531        0.4059  1.3352\n",
      "     17        \u001b[36m0.3564\u001b[0m       0.8561        0.4052  1.2558\n",
      "     14        \u001b[36m0.3524\u001b[0m       \u001b[32m0.8642\u001b[0m        \u001b[35m0.3852\u001b[0m  1.4237\n",
      "     12        \u001b[36m0.3528\u001b[0m       0.8630        0.3839  1.6740\n",
      "     17        \u001b[36m0.3630\u001b[0m       0.8608        \u001b[35m0.3957\u001b[0m  1.0490\n",
      "     20        \u001b[36m1.5170\u001b[0m       0.3565        1.5327  0.9682\n",
      "     20        \u001b[36m1.5311\u001b[0m       0.3334        \u001b[35m1.5322\u001b[0m  0.9292\n",
      "     15        \u001b[36m0.3436\u001b[0m       \u001b[32m0.8716\u001b[0m        \u001b[35m0.3740\u001b[0m  1.1271\n",
      "     20        \u001b[36m1.5137\u001b[0m       \u001b[32m0.3777\u001b[0m        \u001b[35m1.5223\u001b[0m  0.8938\n",
      "     15        \u001b[36m0.3411\u001b[0m       \u001b[32m0.8661\u001b[0m        \u001b[35m0.3794\u001b[0m  1.2748\n",
      "     18        \u001b[36m0.3494\u001b[0m       0.8590        0.3921  0.9257\n",
      "     18        \u001b[36m0.3539\u001b[0m       0.8564        0.4034  1.0429\n",
      "     15        \u001b[36m0.3448\u001b[0m       \u001b[32m0.8672\u001b[0m        \u001b[35m0.3841\u001b[0m  1.2135\n",
      "     21        \u001b[36m1.5108\u001b[0m       \u001b[32m0.3751\u001b[0m        \u001b[35m1.5224\u001b[0m  0.8841\n",
      "     18        \u001b[36m0.3596\u001b[0m       \u001b[32m0.8632\u001b[0m        0.3972  1.0828\n",
      "     13        \u001b[36m0.3460\u001b[0m       0.8641        0.3878  1.3469\n",
      "     21        \u001b[36m1.5263\u001b[0m       \u001b[32m0.3430\u001b[0m        \u001b[35m1.5269\u001b[0m  0.9428\n",
      "     21        \u001b[36m1.5105\u001b[0m       0.3504        1.5301  0.9846\n",
      "     16        \u001b[36m0.3379\u001b[0m       0.8690        0.3751  1.1569\n",
      "     19        \u001b[36m0.3455\u001b[0m       \u001b[32m0.8618\u001b[0m        0.3953  1.0546\n",
      "     16        \u001b[36m0.3355\u001b[0m       \u001b[32m0.8706\u001b[0m        \u001b[35m0.3742\u001b[0m  1.2488\n",
      "     19        \u001b[36m0.3495\u001b[0m       0.8558        0.4088  1.2055\n",
      "     22        \u001b[36m1.5059\u001b[0m       \u001b[32m0.3811\u001b[0m        \u001b[35m1.5189\u001b[0m  1.0435\n",
      "     16        \u001b[36m0.3401\u001b[0m       0.8659        \u001b[35m0.3825\u001b[0m  1.2296\n",
      "     22        \u001b[36m1.5215\u001b[0m       \u001b[32m0.3594\u001b[0m        \u001b[35m1.5216\u001b[0m  0.8933\n",
      "     19        \u001b[36m0.3553\u001b[0m       \u001b[32m0.8656\u001b[0m        \u001b[35m0.3928\u001b[0m  1.1523\n",
      "     22        \u001b[36m1.5061\u001b[0m       0.3724        \u001b[35m1.5202\u001b[0m  0.9754\n",
      "     20        \u001b[36m0.3413\u001b[0m       0.8606        0.3929  0.9860\n",
      "     14        \u001b[36m0.3399\u001b[0m       \u001b[32m0.8706\u001b[0m        \u001b[35m0.3747\u001b[0m  1.5641\n",
      "     17        \u001b[36m0.3318\u001b[0m       \u001b[32m0.8726\u001b[0m        \u001b[35m0.3621\u001b[0m  1.1882\n",
      "     23        \u001b[36m1.5006\u001b[0m       0.3760        \u001b[35m1.5132\u001b[0m  0.7625\n",
      "     17        \u001b[36m0.3308\u001b[0m       0.8694        \u001b[35m0.3732\u001b[0m  1.2018\n",
      "     20        \u001b[36m0.3462\u001b[0m       \u001b[32m0.8612\u001b[0m        \u001b[35m0.3967\u001b[0m  1.1088\n",
      "     23        \u001b[36m1.5180\u001b[0m       0.3499        \u001b[35m1.5179\u001b[0m  1.0388\n",
      "     23        \u001b[36m1.5025\u001b[0m       0.3609        \u001b[35m1.5188\u001b[0m  0.8452\n",
      "     20        \u001b[36m0.3523\u001b[0m       0.8642        \u001b[35m0.3917\u001b[0m  1.1162\n",
      "     17        \u001b[36m0.3350\u001b[0m       0.8660        \u001b[35m0.3798\u001b[0m  1.2100\n",
      "     21        \u001b[36m0.3381\u001b[0m       0.8546        0.4077  0.9406\n",
      "     24        \u001b[36m1.4950\u001b[0m       \u001b[32m0.3844\u001b[0m        \u001b[35m1.5128\u001b[0m  1.0021\n",
      "     21        \u001b[36m0.3422\u001b[0m       0.8599        0.4038  1.1094\n",
      "     15        \u001b[36m0.3331\u001b[0m       0.8641        0.3811  1.4445\n",
      "     18        \u001b[36m0.3281\u001b[0m       \u001b[32m0.8728\u001b[0m        0.3684  1.4436\n",
      "     18        \u001b[36m0.3259\u001b[0m       0.8699        \u001b[35m0.3720\u001b[0m  1.2354\n",
      "     24        \u001b[36m1.4988\u001b[0m       0.3730        \u001b[35m1.5088\u001b[0m  0.8824\n",
      "     24        \u001b[36m1.5138\u001b[0m       0.3519        \u001b[35m1.5148\u001b[0m  0.9994\n",
      "     21        \u001b[36m0.3487\u001b[0m       0.8580        0.3973  1.0854\n",
      "     22        \u001b[36m0.3344\u001b[0m       0.8600        0.3946  1.0343\n",
      "     18        \u001b[36m0.3305\u001b[0m       0.8642        \u001b[35m0.3763\u001b[0m  1.2151\n",
      "     25        \u001b[36m1.4908\u001b[0m       0.3797        \u001b[35m1.5084\u001b[0m  0.8846\n",
      "     25        \u001b[36m1.4958\u001b[0m       0.3756        \u001b[35m1.5068\u001b[0m  0.8739\n",
      "     25        \u001b[36m1.5100\u001b[0m       0.3518        \u001b[35m1.5133\u001b[0m  0.9304\n",
      "     19        \u001b[36m0.3230\u001b[0m       0.8686        0.3722  1.1029\n",
      "     22        \u001b[36m0.3397\u001b[0m       0.8580        0.3984  1.1627\n",
      "     19        \u001b[36m0.3208\u001b[0m       \u001b[32m0.8722\u001b[0m        \u001b[35m0.3676\u001b[0m  1.1935\n",
      "     22        \u001b[36m0.3464\u001b[0m       \u001b[32m0.8668\u001b[0m        \u001b[35m0.3829\u001b[0m  1.0243\n",
      "     26        \u001b[36m1.4875\u001b[0m       0.3789        \u001b[35m1.5047\u001b[0m  0.9357\n",
      "     16        \u001b[36m0.3280\u001b[0m       \u001b[32m0.8710\u001b[0m        \u001b[35m0.3643\u001b[0m  1.5590\n",
      "     23        \u001b[36m0.3313\u001b[0m       0.8594        0.4030  1.1233\n",
      "     19        \u001b[36m0.3261\u001b[0m       0.8606        0.3955  1.3582\n",
      "     26        \u001b[36m1.5070\u001b[0m       \u001b[32m0.3738\u001b[0m        \u001b[35m1.5115\u001b[0m  0.8427\n",
      "     26        \u001b[36m1.4931\u001b[0m       0.3716        1.5121  0.9603\n",
      "     23        \u001b[36m0.3358\u001b[0m       0.8571        0.4050  1.0111\n",
      "     23        \u001b[36m0.3432\u001b[0m       0.8610        0.3967  1.1081\n",
      "     20        \u001b[36m0.3194\u001b[0m       \u001b[32m0.8738\u001b[0m        \u001b[35m0.3592\u001b[0m  1.3117\n",
      "     27        \u001b[36m1.4838\u001b[0m       \u001b[32m0.3867\u001b[0m        \u001b[35m1.4999\u001b[0m  0.9762\n",
      "     20        \u001b[36m0.3173\u001b[0m       0.8690        0.3731  1.2626\n",
      "     24        \u001b[36m0.3279\u001b[0m       \u001b[32m0.8662\u001b[0m        \u001b[35m0.3820\u001b[0m  1.2001\n",
      "     27        \u001b[36m1.5036\u001b[0m       0.3441        \u001b[35m1.5073\u001b[0m  0.9383\n",
      "     27        \u001b[36m1.4897\u001b[0m       0.3422        1.5285  0.9763\n",
      "     20        \u001b[36m0.3218\u001b[0m       0.8619        0.3808  1.3780\n",
      "     17        \u001b[36m0.3218\u001b[0m       0.8685        0.3741  1.6742\n",
      "     24        \u001b[36m0.3345\u001b[0m       \u001b[32m0.8616\u001b[0m        \u001b[35m0.3958\u001b[0m  1.1184\n",
      "     24        \u001b[36m0.3409\u001b[0m       0.8639        0.3923  1.1067\n",
      "     28        \u001b[36m1.4805\u001b[0m       \u001b[32m0.3946\u001b[0m        \u001b[35m1.4967\u001b[0m  1.0995\n",
      "     28        \u001b[36m1.5003\u001b[0m       0.3544        1.5084  0.9259\n",
      "     25        \u001b[36m0.3250\u001b[0m       0.8640        0.3842  1.0103\n",
      "     28        \u001b[36m1.4869\u001b[0m       0.3635        1.5113  0.9227\n",
      "     21        \u001b[36m0.3148\u001b[0m       \u001b[32m0.8769\u001b[0m        \u001b[35m0.3519\u001b[0m  1.4491\n",
      "     21        \u001b[36m0.3133\u001b[0m       \u001b[32m0.8728\u001b[0m        \u001b[35m0.3656\u001b[0m  1.3890\n",
      "     25        \u001b[36m0.3309\u001b[0m       \u001b[32m0.8635\u001b[0m        \u001b[35m0.3945\u001b[0m  1.0506\n",
      "     21        \u001b[36m0.3163\u001b[0m       \u001b[32m0.8674\u001b[0m        \u001b[35m0.3710\u001b[0m  1.2544\n",
      "     29        \u001b[36m1.4777\u001b[0m       \u001b[32m0.4100\u001b[0m        \u001b[35m1.4947\u001b[0m  0.9354\n",
      "     25        \u001b[36m0.3367\u001b[0m       0.8622        0.3970  1.0200\n",
      "     29        \u001b[36m1.4977\u001b[0m       \u001b[32m0.3776\u001b[0m        \u001b[35m1.5015\u001b[0m  0.8752\n",
      "     18        \u001b[36m0.3181\u001b[0m       \u001b[32m0.8746\u001b[0m        \u001b[35m0.3630\u001b[0m  1.4014\n",
      "     26        \u001b[36m0.3233\u001b[0m       0.8592        0.3996  0.9833\n",
      "     29        \u001b[36m1.4849\u001b[0m       0.3611        \u001b[35m1.5006\u001b[0m  0.9394\n",
      "     22        \u001b[36m0.3106\u001b[0m       0.8756        0.3592  1.2354\n",
      "     22        \u001b[36m0.3079\u001b[0m       0.8698        0.3724  1.3177\n",
      "     30        \u001b[36m1.4748\u001b[0m       0.3907        \u001b[35m1.4914\u001b[0m  0.9811\n",
      "     30        \u001b[36m1.4950\u001b[0m       0.3704        \u001b[35m1.5008\u001b[0m  0.9667\n",
      "     22        \u001b[36m0.3139\u001b[0m       0.8669        0.3827  1.1827\n",
      "     26        \u001b[36m0.3285\u001b[0m       0.8624        0.3956  1.3474\n",
      "     27        \u001b[36m0.3209\u001b[0m       0.8620        0.4019  1.0047\n",
      "     30        \u001b[36m1.4822\u001b[0m       0.3604        \u001b[35m1.4958\u001b[0m  1.1155\n",
      "     26        \u001b[36m0.3349\u001b[0m       0.8651        0.3893  1.3929\n",
      "     19        \u001b[36m0.3111\u001b[0m       0.8729        \u001b[35m0.3615\u001b[0m  1.6286\n",
      "     23        \u001b[36m0.3064\u001b[0m       0.8739        0.3676  1.3004\n",
      "     23        \u001b[36m0.3045\u001b[0m       0.8719        0.3680  1.3318\n",
      "     27        \u001b[36m0.3260\u001b[0m       0.8615        0.3971  1.0327\n",
      "     23        \u001b[36m0.3088\u001b[0m       \u001b[32m0.8690\u001b[0m        0.3739  1.2763\n",
      "     28        \u001b[36m0.3184\u001b[0m       \u001b[32m0.8665\u001b[0m        \u001b[35m0.3803\u001b[0m  1.1698\n",
      "     27        \u001b[36m0.3318\u001b[0m       \u001b[32m0.8670\u001b[0m        0.3910  0.9809\n",
      "     24        \u001b[36m0.3035\u001b[0m       0.8751        0.3587  1.2104\n",
      "     28        \u001b[36m0.3237\u001b[0m       0.8635        0.3964  0.8943\n",
      "  epoch    train_loss    valid_acc    valid_loss     dur\n",
      "-------  ------------  -----------  ------------  ------\n",
      "      1        \u001b[36m0.8001\u001b[0m       \u001b[32m0.8100\u001b[0m        \u001b[35m0.5534\u001b[0m  1.4421\n",
      "  epoch    train_loss    valid_acc    valid_loss     dur\n",
      "-------  ------------  -----------  ------------  ------\n",
      "      1        \u001b[36m0.7975\u001b[0m       \u001b[32m0.7973\u001b[0m        \u001b[35m0.5667\u001b[0m  1.4800\n",
      "     24        \u001b[36m0.3010\u001b[0m       0.8671        0.3686  1.2611\n",
      "     29        \u001b[36m0.3149\u001b[0m       0.8661        0.3829  0.9733\n",
      "     20        \u001b[36m0.3072\u001b[0m       0.8690        0.3687  1.6373\n",
      "     28        \u001b[36m0.3296\u001b[0m       0.8609        0.3959  1.0613\n",
      "     24        \u001b[36m0.3067\u001b[0m       \u001b[32m0.8694\u001b[0m        \u001b[35m0.3664\u001b[0m  1.1850\n",
      "     29        \u001b[36m0.3209\u001b[0m       \u001b[32m0.8639\u001b[0m        0.4020  1.0196\n",
      "     25        \u001b[36m0.2989\u001b[0m       0.8701        0.3625  1.1708\n",
      "     30        \u001b[36m0.3145\u001b[0m       \u001b[32m0.8668\u001b[0m        0.3838  0.9284\n",
      "     25        \u001b[36m0.2972\u001b[0m       0.8675        0.3688  1.0796\n",
      "     29        \u001b[36m0.3269\u001b[0m       \u001b[32m0.8678\u001b[0m        0.3842  0.9328\n",
      "      2        \u001b[36m0.5212\u001b[0m       \u001b[32m0.8274\u001b[0m        \u001b[35m0.4891\u001b[0m  1.4549\n",
      "     25        \u001b[36m0.3037\u001b[0m       0.8691        0.3672  1.1697\n",
      "     21        \u001b[36m0.3024\u001b[0m       \u001b[32m0.8756\u001b[0m        \u001b[35m0.3551\u001b[0m  1.3572\n",
      "      2        \u001b[36m0.5266\u001b[0m       \u001b[32m0.8316\u001b[0m        \u001b[35m0.4896\u001b[0m  1.5292\n",
      "     30        \u001b[36m0.3193\u001b[0m       0.8634        \u001b[35m0.3915\u001b[0m  0.8588\n",
      "     26        \u001b[36m0.2954\u001b[0m       0.8740        0.3579  0.9713\n",
      "     30        \u001b[36m0.3259\u001b[0m       0.8609        0.3926  0.9316\n",
      "     26        \u001b[36m0.2932\u001b[0m       0.8668        0.3727  1.0634\n",
      "     26        \u001b[36m0.2992\u001b[0m       \u001b[32m0.8731\u001b[0m        0.3673  1.0933\n",
      "      3        \u001b[36m0.4720\u001b[0m       \u001b[32m0.8307\u001b[0m        \u001b[35m0.4674\u001b[0m  1.3153\n",
      "      3        \u001b[36m0.4749\u001b[0m       \u001b[32m0.8373\u001b[0m        \u001b[35m0.4627\u001b[0m  1.2057\n",
      "     22        \u001b[36m0.2980\u001b[0m       \u001b[32m0.8761\u001b[0m        0.3569  1.2668\n",
      "     27        \u001b[36m0.2928\u001b[0m       \u001b[32m0.8789\u001b[0m        \u001b[35m0.3487\u001b[0m  0.9718\n",
      "     27        \u001b[36m0.2898\u001b[0m       0.8672        0.3660  0.8848\n",
      "     27        \u001b[36m0.2961\u001b[0m       \u001b[32m0.8756\u001b[0m        \u001b[35m0.3652\u001b[0m  0.8993\n",
      "      4        \u001b[36m0.4450\u001b[0m       \u001b[32m0.8399\u001b[0m        \u001b[35m0.4467\u001b[0m  1.0598\n",
      "      4        \u001b[36m0.4473\u001b[0m       \u001b[32m0.8414\u001b[0m        \u001b[35m0.4541\u001b[0m  1.0165\n",
      "     23        \u001b[36m0.2929\u001b[0m       0.8688        0.3611  1.0768\n",
      "     28        \u001b[36m0.2881\u001b[0m       \u001b[32m0.8796\u001b[0m        \u001b[35m0.3473\u001b[0m  0.8792\n",
      "     28        \u001b[36m0.2876\u001b[0m       \u001b[32m0.8729\u001b[0m        \u001b[35m0.3616\u001b[0m  0.8871\n",
      "     28        \u001b[36m0.2930\u001b[0m       0.8738        0.3708  0.8717\n",
      "     29        \u001b[36m0.2856\u001b[0m       0.8765        0.3493  0.8975\n",
      "      5        \u001b[36m0.4255\u001b[0m       \u001b[32m0.8479\u001b[0m        \u001b[35m0.4317\u001b[0m  1.1032\n",
      "     29        \u001b[36m0.2830\u001b[0m       0.8714        0.3633  0.8652\n",
      "      5        \u001b[36m0.4261\u001b[0m       0.8389        \u001b[35m0.4405\u001b[0m  1.0680\n",
      "     24        \u001b[36m0.2888\u001b[0m       0.8742        0.3580  1.0573\n",
      "     29        \u001b[36m0.2892\u001b[0m       0.8718        0.3705  0.8592\n",
      "     30        \u001b[36m0.2819\u001b[0m       0.8780        0.3486  0.8181\n",
      "     30        \u001b[36m0.2800\u001b[0m       0.8718        \u001b[35m0.3607\u001b[0m  0.8384\n",
      "      6        \u001b[36m0.4103\u001b[0m       \u001b[32m0.8521\u001b[0m        \u001b[35m0.4169\u001b[0m  1.0309\n",
      "      6        \u001b[36m0.4098\u001b[0m       \u001b[32m0.8515\u001b[0m        \u001b[35m0.4165\u001b[0m  1.0187\n",
      "     25        \u001b[36m0.2843\u001b[0m       \u001b[32m0.8779\u001b[0m        \u001b[35m0.3507\u001b[0m  1.0143\n",
      "     30        \u001b[36m0.2879\u001b[0m       0.8755        \u001b[35m0.3622\u001b[0m  0.8437\n",
      "      7        \u001b[36m0.3973\u001b[0m       \u001b[32m0.8538\u001b[0m        \u001b[35m0.4080\u001b[0m  0.9966\n",
      "      7        \u001b[36m0.3969\u001b[0m       \u001b[32m0.8558\u001b[0m        \u001b[35m0.4055\u001b[0m  1.0123\n",
      "     26        \u001b[36m0.2806\u001b[0m       \u001b[32m0.8794\u001b[0m        \u001b[35m0.3450\u001b[0m  1.0135\n",
      "      8        \u001b[36m0.3854\u001b[0m       \u001b[32m0.8542\u001b[0m        \u001b[35m0.4058\u001b[0m  0.9672\n",
      "      8        \u001b[36m0.3864\u001b[0m       \u001b[32m0.8568\u001b[0m        \u001b[35m0.4055\u001b[0m  0.9788\n",
      "     27        \u001b[36m0.2775\u001b[0m       0.8748        0.3512  0.9707\n",
      "      9        \u001b[36m0.3758\u001b[0m       \u001b[32m0.8584\u001b[0m        \u001b[35m0.3955\u001b[0m  0.9957\n",
      "      9        \u001b[36m0.3766\u001b[0m       \u001b[32m0.8616\u001b[0m        \u001b[35m0.3969\u001b[0m  1.0060\n",
      "     28        \u001b[36m0.2724\u001b[0m       0.8761        \u001b[35m0.3450\u001b[0m  0.9989\n",
      "     10        \u001b[36m0.3666\u001b[0m       \u001b[32m0.8589\u001b[0m        \u001b[35m0.3915\u001b[0m  0.9921\n",
      "     10        \u001b[36m0.3676\u001b[0m       \u001b[32m0.8621\u001b[0m        \u001b[35m0.3893\u001b[0m  0.9990\n",
      "     29        \u001b[36m0.2704\u001b[0m       0.8794        0.3459  0.9942\n",
      "     11        \u001b[36m0.3576\u001b[0m       \u001b[32m0.8615\u001b[0m        \u001b[35m0.3871\u001b[0m  1.0113\n",
      "     11        \u001b[36m0.3591\u001b[0m       \u001b[32m0.8641\u001b[0m        \u001b[35m0.3816\u001b[0m  1.0220\n",
      "     30        \u001b[36m0.2660\u001b[0m       \u001b[32m0.8806\u001b[0m        0.3452  1.0110\n",
      "     12        \u001b[36m0.3514\u001b[0m       \u001b[32m0.8668\u001b[0m        \u001b[35m0.3771\u001b[0m  0.9958\n",
      "     12        \u001b[36m0.3521\u001b[0m       0.8596        0.3914  1.0078\n",
      "     13        \u001b[36m0.3445\u001b[0m       0.8638        0.3811  0.9793\n",
      "     13        \u001b[36m0.3457\u001b[0m       \u001b[32m0.8684\u001b[0m        \u001b[35m0.3728\u001b[0m  0.9906\n",
      "     14        \u001b[36m0.3374\u001b[0m       \u001b[32m0.8690\u001b[0m        \u001b[35m0.3714\u001b[0m  0.9818\n",
      "     14        \u001b[36m0.3384\u001b[0m       \u001b[32m0.8701\u001b[0m        \u001b[35m0.3672\u001b[0m  0.9879\n",
      "     15        \u001b[36m0.3309\u001b[0m       0.8610        0.3876  0.9818\n",
      "     15        \u001b[36m0.3330\u001b[0m       0.8559        0.3906  0.9867\n",
      "     16        \u001b[36m0.3251\u001b[0m       0.8640        0.3759  0.9715\n",
      "     16        \u001b[36m0.3268\u001b[0m       \u001b[32m0.8716\u001b[0m        \u001b[35m0.3663\u001b[0m  0.9758\n",
      "     17        \u001b[36m0.3194\u001b[0m       0.8508        0.4024  0.9666\n",
      "     17        \u001b[36m0.3214\u001b[0m       0.8702        \u001b[35m0.3618\u001b[0m  0.9802\n",
      "     18        \u001b[36m0.3145\u001b[0m       0.8685        \u001b[35m0.3638\u001b[0m  0.9665\n",
      "     18        \u001b[36m0.3166\u001b[0m       0.8698        0.3659  0.9799\n",
      "     19        \u001b[36m0.3095\u001b[0m       0.8640        0.3684  1.0134\n",
      "     19        \u001b[36m0.3117\u001b[0m       0.8716        \u001b[35m0.3608\u001b[0m  1.0103\n",
      "     20        \u001b[36m0.3049\u001b[0m       \u001b[32m0.8738\u001b[0m        \u001b[35m0.3545\u001b[0m  0.9749\n",
      "     20        \u001b[36m0.3070\u001b[0m       0.8710        0.3660  0.9891\n",
      "     21        \u001b[36m0.3002\u001b[0m       0.8666        0.3778  1.0238\n",
      "     21        \u001b[36m0.3016\u001b[0m       0.8692        0.3732  1.0215\n",
      "     22        \u001b[36m0.2941\u001b[0m       0.8731        \u001b[35m0.3543\u001b[0m  0.9855\n",
      "     22        \u001b[36m0.2976\u001b[0m       0.8691        0.3695  0.9933\n",
      "     23        \u001b[36m0.2912\u001b[0m       \u001b[32m0.8746\u001b[0m        0.3544  0.9921\n",
      "     23        \u001b[36m0.2939\u001b[0m       0.8698        \u001b[35m0.3601\u001b[0m  1.0128\n",
      "     24        \u001b[36m0.2860\u001b[0m       0.8722        \u001b[35m0.3504\u001b[0m  0.9711\n",
      "     24        \u001b[36m0.2889\u001b[0m       0.8711        \u001b[35m0.3539\u001b[0m  0.9811\n",
      "     25        \u001b[36m0.2816\u001b[0m       0.8732        0.3581  0.9843\n",
      "     25        \u001b[36m0.2864\u001b[0m       \u001b[32m0.8736\u001b[0m        0.3553  0.9909\n",
      "     26        \u001b[36m0.2784\u001b[0m       \u001b[32m0.8764\u001b[0m        \u001b[35m0.3496\u001b[0m  0.9625\n",
      "     26        \u001b[36m0.2811\u001b[0m       0.8714        \u001b[35m0.3531\u001b[0m  0.9749\n",
      "     27        \u001b[36m0.2741\u001b[0m       0.8761        0.3511  0.9990\n",
      "     27        \u001b[36m0.2790\u001b[0m       \u001b[32m0.8740\u001b[0m        \u001b[35m0.3483\u001b[0m  1.0050\n",
      "     28        \u001b[36m0.2712\u001b[0m       0.8671        0.3632  0.9711\n",
      "     28        \u001b[36m0.2755\u001b[0m       \u001b[32m0.8765\u001b[0m        0.3523  0.9802\n",
      "     29        \u001b[36m0.2673\u001b[0m       0.8741        \u001b[35m0.3496\u001b[0m  0.9849\n",
      "     29        \u001b[36m0.2715\u001b[0m       0.8666        0.3610  0.9991\n",
      "     30        \u001b[36m0.2623\u001b[0m       0.8732        \u001b[35m0.3456\u001b[0m  0.9807\n",
      "     30        \u001b[36m0.2669\u001b[0m       0.8754        \u001b[35m0.3464\u001b[0m  0.9980\n",
      "  epoch    train_loss    valid_acc    valid_loss     dur\n",
      "-------  ------------  -----------  ------------  ------\n",
      "      1        \u001b[36m0.7227\u001b[0m       \u001b[32m0.8155\u001b[0m        \u001b[35m0.5245\u001b[0m  3.4423\n",
      "      2        \u001b[36m0.4901\u001b[0m       \u001b[32m0.8366\u001b[0m        \u001b[35m0.4646\u001b[0m  3.0847\n",
      "      3        \u001b[36m0.4459\u001b[0m       \u001b[32m0.8497\u001b[0m        \u001b[35m0.4328\u001b[0m  3.1092\n",
      "      4        \u001b[36m0.4200\u001b[0m       \u001b[32m0.8557\u001b[0m        \u001b[35m0.4103\u001b[0m  3.1967\n",
      "      5        \u001b[36m0.4011\u001b[0m       \u001b[32m0.8582\u001b[0m        \u001b[35m0.4063\u001b[0m  3.1097\n",
      "      6        \u001b[36m0.3864\u001b[0m       \u001b[32m0.8651\u001b[0m        \u001b[35m0.3908\u001b[0m  3.1697\n",
      "      7        \u001b[36m0.3742\u001b[0m       0.8647        \u001b[35m0.3791\u001b[0m  3.3818\n",
      "      8        \u001b[36m0.3635\u001b[0m       0.8642        0.3805  3.2381\n",
      "      9        \u001b[36m0.3538\u001b[0m       \u001b[32m0.8728\u001b[0m        \u001b[35m0.3616\u001b[0m  3.2240\n",
      "     10        \u001b[36m0.3448\u001b[0m       \u001b[32m0.8736\u001b[0m        \u001b[35m0.3564\u001b[0m  3.0829\n",
      "     11        \u001b[36m0.3359\u001b[0m       0.8735        0.3570  3.1126\n",
      "     12        \u001b[36m0.3291\u001b[0m       \u001b[32m0.8751\u001b[0m        \u001b[35m0.3498\u001b[0m  3.0439\n",
      "     13        \u001b[36m0.3221\u001b[0m       \u001b[32m0.8781\u001b[0m        \u001b[35m0.3452\u001b[0m  3.0907\n",
      "     14        \u001b[36m0.3158\u001b[0m       0.8778        \u001b[35m0.3407\u001b[0m  3.1661\n",
      "     15        \u001b[36m0.3096\u001b[0m       \u001b[32m0.8796\u001b[0m        0.3437  3.1449\n",
      "     16        \u001b[36m0.3048\u001b[0m       \u001b[32m0.8814\u001b[0m        \u001b[35m0.3341\u001b[0m  3.4770\n",
      "     17        \u001b[36m0.2984\u001b[0m       \u001b[32m0.8816\u001b[0m        \u001b[35m0.3319\u001b[0m  3.5507\n",
      "     18        \u001b[36m0.2929\u001b[0m       \u001b[32m0.8850\u001b[0m        \u001b[35m0.3280\u001b[0m  3.2577\n",
      "     19        \u001b[36m0.2890\u001b[0m       0.8837        0.3322  3.4246\n",
      "     20        \u001b[36m0.2844\u001b[0m       0.8798        0.3318  3.4746\n",
      "     21        \u001b[36m0.2800\u001b[0m       \u001b[32m0.8861\u001b[0m        \u001b[35m0.3203\u001b[0m  3.4479\n",
      "     22        \u001b[36m0.2749\u001b[0m       0.8843        0.3278  3.4096\n",
      "     23        \u001b[36m0.2711\u001b[0m       \u001b[32m0.8872\u001b[0m        0.3206  3.4026\n",
      "     24        \u001b[36m0.2668\u001b[0m       0.8835        0.3327  3.4724\n",
      "     25        \u001b[36m0.2636\u001b[0m       \u001b[32m0.8872\u001b[0m        \u001b[35m0.3164\u001b[0m  3.3377\n",
      "     26        \u001b[36m0.2598\u001b[0m       0.8871        0.3168  3.3498\n",
      "     27        \u001b[36m0.2564\u001b[0m       0.8843        0.3304  3.3816\n",
      "     28        \u001b[36m0.2529\u001b[0m       0.8868        0.3212  3.4033\n",
      "     29        \u001b[36m0.2496\u001b[0m       \u001b[32m0.8883\u001b[0m        \u001b[35m0.3132\u001b[0m  3.4187\n",
      "     30        \u001b[36m0.2462\u001b[0m       \u001b[32m0.8911\u001b[0m        \u001b[35m0.3122\u001b[0m  3.4575\n",
      "Best: 0.877233 using {'module__n_hidden': 100}\n",
      "0.370033 (0.010734) with: {'module__n_hidden': 1}\n",
      "0.864933 (0.005403) with: {'module__n_hidden': 20}\n",
      "0.873717 (0.002337) with: {'module__n_hidden': 50}\n",
      "0.877233 (0.003387) with: {'module__n_hidden': 100}\n"
     ]
    }
   ],
   "source": [
    "# create model with skorch\n",
    "model = NeuralNetClassifier(\n",
    "    MLP,\n",
    "    criterion=nn.CrossEntropyLoss,\n",
    "    optimizer=optim.SGD,\n",
    "    max_epochs=30,\n",
    "    batch_size=32,\n",
    "    lr=1e-2,\n",
    "    iterator_train__shuffle=True\n",
    ")\n",
    " \n",
    "# define the grid search parameters\n",
    "# param_grid = {\n",
    "#     'batch_size': [32, 128, 256],\n",
    "#     'max_epochs': [10, 50, 100],\n",
    "#     'optimizer': [optim.SGD, optim.RMSprop, optim.Adagrad, optim.Adam],\n",
    "#     'optimizer__lr': [0.001, 0.01, 0.1, 0.2, 0.3],\n",
    "#     'module__n_hidden': [1, 20, 50]\n",
    "# }\n",
    "param_grid = {\n",
    "    'module__n_hidden': [1, 20, 50, 100]\n",
    "}\n",
    "\n",
    "grid = GridSearchCV(estimator=model, param_grid=param_grid, n_jobs=-1, cv=3)\n",
    "# get X and y from dataloader\n",
    "trainloader = torch.utils.data.DataLoader(trainset, batch_size=32, shuffle=False) # make shuffle False\n",
    "X = np.array([X.cpu().detach().numpy() for X, y in trainloader])\n",
    "X = np.squeeze(np.concatenate(X, axis=0))\n",
    "y = np.array([y.cpu().detach().numpy() for X, y in trainloader])\n",
    "y = np.squeeze(np.concatenate(y, axis=0))\n",
    "grid_result = grid.fit(X,y) # pytorch dataset may also work https://skorch.readthedocs.io/en/latest/user/neuralnet.html#most-important-arguments-and-methods"
   ]
  },
  {
   "cell_type": "code",
   "execution_count": 114,
   "metadata": {},
   "outputs": [
    {
     "name": "stdout",
     "output_type": "stream",
     "text": [
      "Best: 0.877233 using {'module__n_hidden': 100}\n",
      "0.370033 (0.010734) with: {'module__n_hidden': 1}\n",
      "0.864933 (0.005403) with: {'module__n_hidden': 20}\n",
      "0.873717 (0.002337) with: {'module__n_hidden': 50}\n",
      "0.877233 (0.003387) with: {'module__n_hidden': 100}\n"
     ]
    }
   ],
   "source": [
    "# summarize results\n",
    "print(\"Best: %f using %s\" % (grid_result.best_score_, grid_result.best_params_))\n",
    "means = grid_result.cv_results_['mean_test_score']\n",
    "stds = grid_result.cv_results_['std_test_score']\n",
    "params = grid_result.cv_results_['params']\n",
    "for mean, stdev, param in zip(means, stds, params):\n",
    "    print(\"%f (%f) with: %r\" % (mean, stdev, param))"
   ]
  }
 ],
 "metadata": {
  "kernelspec": {
   "display_name": "spert-env",
   "language": "python",
   "name": "python3"
  },
  "language_info": {
   "codemirror_mode": {
    "name": "ipython",
    "version": 3
   },
   "file_extension": ".py",
   "mimetype": "text/x-python",
   "name": "python",
   "nbconvert_exporter": "python",
   "pygments_lexer": "ipython3",
   "version": "3.9.15"
  },
  "orig_nbformat": 4
 },
 "nbformat": 4,
 "nbformat_minor": 2
}
