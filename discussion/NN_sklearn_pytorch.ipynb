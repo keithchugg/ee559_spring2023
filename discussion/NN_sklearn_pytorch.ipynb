{
 "cells": [
  {
   "attachments": {},
   "cell_type": "markdown",
   "metadata": {},
   "source": [
    "EE559: A simple implementation of MLP for a Binary Classification Problem\n",
    "\n",
    "Instructors: Prof. Keith Chugg (chugg@usc.edu) & Prof. B. Keith Jenkins (jenkins@sipi.usc.edu)\n",
    "\n",
    "Notebook: Torch verision - Written by TA Chengwei Wei (chengwei@usc.edu)\n",
    "Sklearn version - Written by TA Thanos Rompokos (rompokos@usc.edu)\n",
    "\n",
    "Adapted from: \n",
    "https://machinelearningmastery.com/building-a-binary-classification-model-in-pytorch/\n",
    "https://www.kaggle.com/code/pinocookie/pytorch-simple-mlp/notebook"
   ]
  },
  {
   "attachments": {},
   "cell_type": "markdown",
   "metadata": {},
   "source": [
    "make sure torch is installed (https://pytorch.org/)"
   ]
  },
  {
   "cell_type": "code",
   "execution_count": 1,
   "metadata": {},
   "outputs": [],
   "source": [
    "import torch\n",
    "import torch.nn as nn\n",
    "import pandas as pd\n",
    "from sklearn import preprocessing\n",
    "import numpy as np\n",
    "from tqdm import tqdm"
   ]
  },
  {
   "attachments": {},
   "cell_type": "markdown",
   "metadata": {},
   "source": [
    "read dataset 3 from HW1 which is not linear seperable\n",
    "\n",
    "And we will see the performance of MLP with non-linear activation on this dataset"
   ]
  },
  {
   "cell_type": "code",
   "execution_count": 2,
   "metadata": {},
   "outputs": [],
   "source": [
    "df_train3 = pd.read_csv('./HW1_datasets/dataset3_train.csv', header=None, names=[\"x\", \"y\", \"class\"])\n",
    "X_train3 = df_train3[['x', 'y']].to_numpy()\n",
    "Y_train3 = df_train3[['class']].to_numpy().ravel()\n",
    "\n",
    "df_test3 = pd.read_csv('./HW1_datasets/dataset3_test.csv', header=None, names=[\"x\", \"y\", \"class\"])\n",
    "X_test3 = df_test3[['x', 'y']].to_numpy()\n",
    "Y_test3 = df_test3[['class']].to_numpy().ravel()\n",
    "\n",
    "## preprocessing\n",
    "# Convert Class String labels into Integers\n",
    "lab_enc = preprocessing.LabelEncoder()\n",
    "Y_train3 = lab_enc.fit_transform(Y_train3)\n",
    "Y_test3 = lab_enc.transform(Y_test3)\n"
   ]
  },
  {
   "attachments": {},
   "cell_type": "markdown",
   "metadata": {},
   "source": [
    "### Sklearn"
   ]
  },
  {
   "cell_type": "code",
   "execution_count": 3,
   "metadata": {},
   "outputs": [],
   "source": [
    "from sklearn.neural_network import MLPClassifier\n",
    "clf = MLPClassifier(hidden_layer_sizes=(10,), max_iter=200,activation = 'relu',solver='adam', batch_size=2)"
   ]
  },
  {
   "cell_type": "code",
   "execution_count": 4,
   "metadata": {},
   "outputs": [
    {
     "name": "stderr",
     "output_type": "stream",
     "text": [
      "/Users/chengwei/opt/anaconda3/envs/ee559/lib/python3.9/site-packages/sklearn/neural_network/_multilayer_perceptron.py:686: ConvergenceWarning: Stochastic Optimizer: Maximum iterations (200) reached and the optimization hasn't converged yet.\n",
      "  warnings.warn(\n"
     ]
    },
    {
     "data": {
      "text/html": [
       "<style>#sk-container-id-1 {color: black;background-color: white;}#sk-container-id-1 pre{padding: 0;}#sk-container-id-1 div.sk-toggleable {background-color: white;}#sk-container-id-1 label.sk-toggleable__label {cursor: pointer;display: block;width: 100%;margin-bottom: 0;padding: 0.3em;box-sizing: border-box;text-align: center;}#sk-container-id-1 label.sk-toggleable__label-arrow:before {content: \"▸\";float: left;margin-right: 0.25em;color: #696969;}#sk-container-id-1 label.sk-toggleable__label-arrow:hover:before {color: black;}#sk-container-id-1 div.sk-estimator:hover label.sk-toggleable__label-arrow:before {color: black;}#sk-container-id-1 div.sk-toggleable__content {max-height: 0;max-width: 0;overflow: hidden;text-align: left;background-color: #f0f8ff;}#sk-container-id-1 div.sk-toggleable__content pre {margin: 0.2em;color: black;border-radius: 0.25em;background-color: #f0f8ff;}#sk-container-id-1 input.sk-toggleable__control:checked~div.sk-toggleable__content {max-height: 200px;max-width: 100%;overflow: auto;}#sk-container-id-1 input.sk-toggleable__control:checked~label.sk-toggleable__label-arrow:before {content: \"▾\";}#sk-container-id-1 div.sk-estimator input.sk-toggleable__control:checked~label.sk-toggleable__label {background-color: #d4ebff;}#sk-container-id-1 div.sk-label input.sk-toggleable__control:checked~label.sk-toggleable__label {background-color: #d4ebff;}#sk-container-id-1 input.sk-hidden--visually {border: 0;clip: rect(1px 1px 1px 1px);clip: rect(1px, 1px, 1px, 1px);height: 1px;margin: -1px;overflow: hidden;padding: 0;position: absolute;width: 1px;}#sk-container-id-1 div.sk-estimator {font-family: monospace;background-color: #f0f8ff;border: 1px dotted black;border-radius: 0.25em;box-sizing: border-box;margin-bottom: 0.5em;}#sk-container-id-1 div.sk-estimator:hover {background-color: #d4ebff;}#sk-container-id-1 div.sk-parallel-item::after {content: \"\";width: 100%;border-bottom: 1px solid gray;flex-grow: 1;}#sk-container-id-1 div.sk-label:hover label.sk-toggleable__label {background-color: #d4ebff;}#sk-container-id-1 div.sk-serial::before {content: \"\";position: absolute;border-left: 1px solid gray;box-sizing: border-box;top: 0;bottom: 0;left: 50%;z-index: 0;}#sk-container-id-1 div.sk-serial {display: flex;flex-direction: column;align-items: center;background-color: white;padding-right: 0.2em;padding-left: 0.2em;position: relative;}#sk-container-id-1 div.sk-item {position: relative;z-index: 1;}#sk-container-id-1 div.sk-parallel {display: flex;align-items: stretch;justify-content: center;background-color: white;position: relative;}#sk-container-id-1 div.sk-item::before, #sk-container-id-1 div.sk-parallel-item::before {content: \"\";position: absolute;border-left: 1px solid gray;box-sizing: border-box;top: 0;bottom: 0;left: 50%;z-index: -1;}#sk-container-id-1 div.sk-parallel-item {display: flex;flex-direction: column;z-index: 1;position: relative;background-color: white;}#sk-container-id-1 div.sk-parallel-item:first-child::after {align-self: flex-end;width: 50%;}#sk-container-id-1 div.sk-parallel-item:last-child::after {align-self: flex-start;width: 50%;}#sk-container-id-1 div.sk-parallel-item:only-child::after {width: 0;}#sk-container-id-1 div.sk-dashed-wrapped {border: 1px dashed gray;margin: 0 0.4em 0.5em 0.4em;box-sizing: border-box;padding-bottom: 0.4em;background-color: white;}#sk-container-id-1 div.sk-label label {font-family: monospace;font-weight: bold;display: inline-block;line-height: 1.2em;}#sk-container-id-1 div.sk-label-container {text-align: center;}#sk-container-id-1 div.sk-container {/* jupyter's `normalize.less` sets `[hidden] { display: none; }` but bootstrap.min.css set `[hidden] { display: none !important; }` so we also need the `!important` here to be able to override the default hidden behavior on the sphinx rendered scikit-learn.org. See: https://github.com/scikit-learn/scikit-learn/issues/21755 */display: inline-block !important;position: relative;}#sk-container-id-1 div.sk-text-repr-fallback {display: none;}</style><div id=\"sk-container-id-1\" class=\"sk-top-container\"><div class=\"sk-text-repr-fallback\"><pre>MLPClassifier(batch_size=2, hidden_layer_sizes=(10,))</pre><b>In a Jupyter environment, please rerun this cell to show the HTML representation or trust the notebook. <br />On GitHub, the HTML representation is unable to render, please try loading this page with nbviewer.org.</b></div><div class=\"sk-container\" hidden><div class=\"sk-item\"><div class=\"sk-estimator sk-toggleable\"><input class=\"sk-toggleable__control sk-hidden--visually\" id=\"sk-estimator-id-1\" type=\"checkbox\" checked><label for=\"sk-estimator-id-1\" class=\"sk-toggleable__label sk-toggleable__label-arrow\">MLPClassifier</label><div class=\"sk-toggleable__content\"><pre>MLPClassifier(batch_size=2, hidden_layer_sizes=(10,))</pre></div></div></div></div></div>"
      ],
      "text/plain": [
       "MLPClassifier(batch_size=2, hidden_layer_sizes=(10,))"
      ]
     },
     "execution_count": 4,
     "metadata": {},
     "output_type": "execute_result"
    }
   ],
   "source": [
    "#Fitting the training data to the network\n",
    "clf.fit(X_train3, Y_train3.ravel())"
   ]
  },
  {
   "cell_type": "code",
   "execution_count": 5,
   "metadata": {},
   "outputs": [
    {
     "name": "stdout",
     "output_type": "stream",
     "text": [
      "No of layers: 3\n",
      "Hidden layer activation function: relu\n",
      "Output layer activation function: logistic\n"
     ]
    }
   ],
   "source": [
    "print('No of layers:',clf.n_layers_)\n",
    "print('Hidden layer activation function:',clf.activation)\n",
    "print('Output layer activation function:',clf.out_activation_)"
   ]
  },
  {
   "cell_type": "code",
   "execution_count": 6,
   "metadata": {},
   "outputs": [],
   "source": [
    "#Predicting y for X_train & test\n",
    "y_train_pred = clf.predict(X_train3)\n",
    "y_test_pred = clf.predict(X_test3)"
   ]
  },
  {
   "cell_type": "code",
   "execution_count": 7,
   "metadata": {},
   "outputs": [
    {
     "name": "stdout",
     "output_type": "stream",
     "text": [
      "Train accuracy: 0.94\n",
      "Test accuracy: 0.92\n"
     ]
    }
   ],
   "source": [
    "from sklearn.metrics import accuracy_score\n",
    "print('Train accuracy:',accuracy_score(y_train_pred,Y_train3))\n",
    "print('Test accuracy:',accuracy_score(y_test_pred,Y_test3))"
   ]
  },
  {
   "cell_type": "code",
   "execution_count": 8,
   "metadata": {},
   "outputs": [
    {
     "data": {
      "image/png": "[encoded data removed]",
      "text/plain": [
       "<Figure size 640x480 with 1 Axes>"
      ]
     },
     "metadata": {},
     "output_type": "display_data"
    }
   ],
   "source": [
    "import matplotlib.pyplot as plt\n",
    "plt.plot(clf.loss_curve_)\n",
    "plt.ylabel('train loss')\n",
    "plt.xlabel('epoch')\n",
    "plt.show()"
   ]
  },
  {
   "attachments": {},
   "cell_type": "markdown",
   "metadata": {},
   "source": [
    "#### Add an extra hidden layer"
   ]
  },
  {
   "cell_type": "code",
   "execution_count": 9,
   "metadata": {},
   "outputs": [
    {
     "name": "stdout",
     "output_type": "stream",
     "text": [
      "No of layers: 3\n",
      "Hidden layer activation function: relu\n",
      "Output layer activation function: logistic\n"
     ]
    },
    {
     "name": "stderr",
     "output_type": "stream",
     "text": [
      "/Users/chengwei/opt/anaconda3/envs/ee559/lib/python3.9/site-packages/sklearn/neural_network/_multilayer_perceptron.py:686: ConvergenceWarning: Stochastic Optimizer: Maximum iterations (200) reached and the optimization hasn't converged yet.\n",
      "  warnings.warn(\n"
     ]
    },
    {
     "data": {
      "text/html": [
       "<style>#sk-container-id-2 {color: black;background-color: white;}#sk-container-id-2 pre{padding: 0;}#sk-container-id-2 div.sk-toggleable {background-color: white;}#sk-container-id-2 label.sk-toggleable__label {cursor: pointer;display: block;width: 100%;margin-bottom: 0;padding: 0.3em;box-sizing: border-box;text-align: center;}#sk-container-id-2 label.sk-toggleable__label-arrow:before {content: \"▸\";float: left;margin-right: 0.25em;color: #696969;}#sk-container-id-2 label.sk-toggleable__label-arrow:hover:before {color: black;}#sk-container-id-2 div.sk-estimator:hover label.sk-toggleable__label-arrow:before {color: black;}#sk-container-id-2 div.sk-toggleable__content {max-height: 0;max-width: 0;overflow: hidden;text-align: left;background-color: #f0f8ff;}#sk-container-id-2 div.sk-toggleable__content pre {margin: 0.2em;color: black;border-radius: 0.25em;background-color: #f0f8ff;}#sk-container-id-2 input.sk-toggleable__control:checked~div.sk-toggleable__content {max-height: 200px;max-width: 100%;overflow: auto;}#sk-container-id-2 input.sk-toggleable__control:checked~label.sk-toggleable__label-arrow:before {content: \"▾\";}#sk-container-id-2 div.sk-estimator input.sk-toggleable__control:checked~label.sk-toggleable__label {background-color: #d4ebff;}#sk-container-id-2 div.sk-label input.sk-toggleable__control:checked~label.sk-toggleable__label {background-color: #d4ebff;}#sk-container-id-2 input.sk-hidden--visually {border: 0;clip: rect(1px 1px 1px 1px);clip: rect(1px, 1px, 1px, 1px);height: 1px;margin: -1px;overflow: hidden;padding: 0;position: absolute;width: 1px;}#sk-container-id-2 div.sk-estimator {font-family: monospace;background-color: #f0f8ff;border: 1px dotted black;border-radius: 0.25em;box-sizing: border-box;margin-bottom: 0.5em;}#sk-container-id-2 div.sk-estimator:hover {background-color: #d4ebff;}#sk-container-id-2 div.sk-parallel-item::after {content: \"\";width: 100%;border-bottom: 1px solid gray;flex-grow: 1;}#sk-container-id-2 div.sk-label:hover label.sk-toggleable__label {background-color: #d4ebff;}#sk-container-id-2 div.sk-serial::before {content: \"\";position: absolute;border-left: 1px solid gray;box-sizing: border-box;top: 0;bottom: 0;left: 50%;z-index: 0;}#sk-container-id-2 div.sk-serial {display: flex;flex-direction: column;align-items: center;background-color: white;padding-right: 0.2em;padding-left: 0.2em;position: relative;}#sk-container-id-2 div.sk-item {position: relative;z-index: 1;}#sk-container-id-2 div.sk-parallel {display: flex;align-items: stretch;justify-content: center;background-color: white;position: relative;}#sk-container-id-2 div.sk-item::before, #sk-container-id-2 div.sk-parallel-item::before {content: \"\";position: absolute;border-left: 1px solid gray;box-sizing: border-box;top: 0;bottom: 0;left: 50%;z-index: -1;}#sk-container-id-2 div.sk-parallel-item {display: flex;flex-direction: column;z-index: 1;position: relative;background-color: white;}#sk-container-id-2 div.sk-parallel-item:first-child::after {align-self: flex-end;width: 50%;}#sk-container-id-2 div.sk-parallel-item:last-child::after {align-self: flex-start;width: 50%;}#sk-container-id-2 div.sk-parallel-item:only-child::after {width: 0;}#sk-container-id-2 div.sk-dashed-wrapped {border: 1px dashed gray;margin: 0 0.4em 0.5em 0.4em;box-sizing: border-box;padding-bottom: 0.4em;background-color: white;}#sk-container-id-2 div.sk-label label {font-family: monospace;font-weight: bold;display: inline-block;line-height: 1.2em;}#sk-container-id-2 div.sk-label-container {text-align: center;}#sk-container-id-2 div.sk-container {/* jupyter's `normalize.less` sets `[hidden] { display: none; }` but bootstrap.min.css set `[hidden] { display: none !important; }` so we also need the `!important` here to be able to override the default hidden behavior on the sphinx rendered scikit-learn.org. See: https://github.com/scikit-learn/scikit-learn/issues/21755 */display: inline-block !important;position: relative;}#sk-container-id-2 div.sk-text-repr-fallback {display: none;}</style><div id=\"sk-container-id-2\" class=\"sk-top-container\"><div class=\"sk-text-repr-fallback\"><pre>MLPClassifier(batch_size=2, hidden_layer_sizes=(5, 10))</pre><b>In a Jupyter environment, please rerun this cell to show the HTML representation or trust the notebook. <br />On GitHub, the HTML representation is unable to render, please try loading this page with nbviewer.org.</b></div><div class=\"sk-container\" hidden><div class=\"sk-item\"><div class=\"sk-estimator sk-toggleable\"><input class=\"sk-toggleable__control sk-hidden--visually\" id=\"sk-estimator-id-2\" type=\"checkbox\" checked><label for=\"sk-estimator-id-2\" class=\"sk-toggleable__label sk-toggleable__label-arrow\">MLPClassifier</label><div class=\"sk-toggleable__content\"><pre>MLPClassifier(batch_size=2, hidden_layer_sizes=(5, 10))</pre></div></div></div></div></div>"
      ],
      "text/plain": [
       "MLPClassifier(batch_size=2, hidden_layer_sizes=(5, 10))"
      ]
     },
     "execution_count": 9,
     "metadata": {},
     "output_type": "execute_result"
    }
   ],
   "source": [
    "clf_extra = MLPClassifier(hidden_layer_sizes=(5,10), max_iter=200,activation = 'relu',solver='adam', batch_size=2)\n",
    "print('No of layers:',clf.n_layers_)\n",
    "print('Hidden layer activation function:',clf.activation)\n",
    "print('Output layer activation function:',clf.out_activation_)\n",
    "clf_extra.fit(X_train3, Y_train3.ravel())"
   ]
  },
  {
   "cell_type": "code",
   "execution_count": 10,
   "metadata": {},
   "outputs": [
    {
     "name": "stdout",
     "output_type": "stream",
     "text": [
      "Train accuracy: 0.96\n",
      "Test accuracy: 0.93\n"
     ]
    }
   ],
   "source": [
    "y_train_pred = clf_extra.predict(X_train3)\n",
    "y_test_pred = clf_extra.predict(X_test3)\n",
    "print('Train accuracy:',accuracy_score(y_train_pred,Y_train3))\n",
    "print('Test accuracy:',accuracy_score(y_test_pred,Y_test3))"
   ]
  },
  {
   "cell_type": "code",
   "execution_count": 11,
   "metadata": {},
   "outputs": [
    {
     "data": {
      "image/png": "[encoded data removed]",
      "text/plain": [
       "<Figure size 640x480 with 1 Axes>"
      ]
     },
     "metadata": {},
     "output_type": "display_data"
    }
   ],
   "source": [
    "import matplotlib.pyplot as plt\n",
    "plt.plot(clf_extra.loss_curve_)\n",
    "plt.ylabel('train loss')\n",
    "plt.xlabel('epoch')\n",
    "plt.show()"
   ]
  },
  {
   "attachments": {},
   "cell_type": "markdown",
   "metadata": {},
   "source": [
    "### Torch"
   ]
  },
  {
   "cell_type": "markdown",
   "metadata": {},
   "source": [
    "no gpu on this device, let's use cpu instead"
   ]
  },
  {
   "cell_type": "code",
   "execution_count": 12,
   "metadata": {},
   "outputs": [
    {
     "data": {
      "text/plain": [
       "False"
      ]
     },
     "execution_count": 12,
     "metadata": {},
     "output_type": "execute_result"
    }
   ],
   "source": [
    "torch.cuda.is_available()"
   ]
  },
  {
   "cell_type": "code",
   "execution_count": 13,
   "metadata": {},
   "outputs": [],
   "source": [
    "\n",
    "# # Normalize the input features of the dataset\n",
    "# normalizer = preprocessing.StandardScaler()\n",
    "# X_train = normalizer.fit_transform(X_train)\n",
    "# X_test = normalizer.fit_transform(X_test)\n",
    "\n",
    "# convert to torch tensor\n",
    "X_train3 = torch.tensor(X_train3, dtype=torch.float32)\n",
    "Y_train3 = torch.tensor(Y_train3, dtype=torch.float32).reshape(-1, 1)\n",
    "X_test3 = torch.tensor(X_test3, dtype=torch.float32)\n",
    "Y_test3 = torch.tensor(Y_test3, dtype=torch.float32).reshape(-1, 1)"
   ]
  },
  {
   "cell_type": "code",
   "execution_count": 14,
   "metadata": {},
   "outputs": [
    {
     "data": {
      "text/plain": [
       "tensor([0., 1.])"
      ]
     },
     "execution_count": 14,
     "metadata": {},
     "output_type": "execute_result"
    }
   ],
   "source": [
    "torch.unique(Y_test3)"
   ]
  },
  {
   "attachments": {},
   "cell_type": "markdown",
   "metadata": {},
   "source": [
    "build the model"
   ]
  },
  {
   "cell_type": "code",
   "execution_count": 15,
   "metadata": {},
   "outputs": [],
   "source": [
    "class MLP(nn.Module):\n",
    "    def __init__(self, input_dim, hidden_dim):\n",
    "        super(MLP, self).__init__()\n",
    "        # the layers you want to put in the models\n",
    "        self.hidden1 = nn.Linear(input_dim, hidden_dim)\n",
    "        self.relu = nn.ReLU()\n",
    "        self.output = nn.Linear(hidden_dim, 1)\n",
    "        self.sigmoid = nn.Sigmoid()\n",
    "        \n",
    "    def forward(self, x):\n",
    "        # how the input move forward in the model\n",
    "        x = self.relu(self.hidden1(x)) # first go through hidden1 layer, and then relu\n",
    "        x = self.sigmoid(self.output(x)) #  go through output layer, and then sigmoid\n",
    "        return x"
   ]
  },
  {
   "cell_type": "code",
   "execution_count": 16,
   "metadata": {},
   "outputs": [
    {
     "name": "stdout",
     "output_type": "stream",
     "text": [
      "MLP(\n",
      "  (hidden1): Linear(in_features=2, out_features=10, bias=True)\n",
      "  (relu): ReLU()\n",
      "  (hidden2): Linear(in_features=10, out_features=1, bias=True)\n",
      "  (sigmoid): Sigmoid()\n",
      ")\n"
     ]
    }
   ],
   "source": [
    "model = MLP(2, 10) # build a MLP where the input feature has 2 dim, and the hidden dim is 10\n",
    "print(model)"
   ]
  },
  {
   "attachments": {},
   "cell_type": "markdown",
   "metadata": {},
   "source": [
    "Optimizer and Loss function"
   ]
  },
  {
   "cell_type": "code",
   "execution_count": 17,
   "metadata": {},
   "outputs": [],
   "source": [
    "optimizer = torch.optim.Adam(model.parameters(), lr=0.001) # lr = learning rate\n",
    "loss_fn = nn.BCELoss() # binary cross entropy for a binary classifcaiton"
   ]
  },
  {
   "attachments": {},
   "cell_type": "markdown",
   "metadata": {},
   "source": [
    "A simple training process, no early stop, adpative lr ..."
   ]
  },
  {
   "cell_type": "code",
   "execution_count": 18,
   "metadata": {},
   "outputs": [
    {
     "name": "stderr",
     "output_type": "stream",
     "text": [
      "Epoch 0: 100%|██████████| 50/50 [00:00<00:00, 393.26batch/s, acc=0.5, loss=0.685]\n",
      "Epoch 1: 100%|██████████| 50/50 [00:00<00:00, 644.54batch/s, acc=0.5, loss=0.661]\n",
      "Epoch 2: 100%|██████████| 50/50 [00:00<00:00, 662.17batch/s, acc=0.5, loss=0.639]\n",
      "Epoch 3: 100%|██████████| 50/50 [00:00<00:00, 713.88batch/s, acc=0.5, loss=0.618]\n",
      "Epoch 4: 100%|██████████| 50/50 [00:00<00:00, 610.90batch/s, acc=0.5, loss=0.596]\n",
      "Epoch 5: 100%|██████████| 50/50 [00:00<00:00, 570.87batch/s, acc=0.5, loss=0.575]\n",
      "Epoch 6: 100%|██████████| 50/50 [00:00<00:00, 493.84batch/s, acc=0.5, loss=0.554]\n",
      "Epoch 7: 100%|██████████| 50/50 [00:00<00:00, 557.39batch/s, acc=0.5, loss=0.533]\n",
      "Epoch 8: 100%|██████████| 50/50 [00:00<00:00, 625.06batch/s, acc=0.5, loss=0.512]\n",
      "Epoch 9: 100%|██████████| 50/50 [00:00<00:00, 515.94batch/s, acc=1, loss=0.491]\n",
      "Epoch 10: 100%|██████████| 50/50 [00:00<00:00, 580.24batch/s, acc=1, loss=0.471]\n",
      "Epoch 11: 100%|██████████| 50/50 [00:00<00:00, 635.36batch/s, acc=1, loss=0.452]\n",
      "Epoch 12: 100%|██████████| 50/50 [00:00<00:00, 655.28batch/s, acc=1, loss=0.434]\n",
      "Epoch 13: 100%|██████████| 50/50 [00:00<00:00, 433.26batch/s, acc=1, loss=0.416]  \n",
      "Epoch 14: 100%|██████████| 50/50 [00:00<00:00, 632.13batch/s, acc=1, loss=0.4]\n",
      "Epoch 15: 100%|██████████| 50/50 [00:00<00:00, 639.61batch/s, acc=1, loss=0.385]\n",
      "Epoch 16: 100%|██████████| 50/50 [00:00<00:00, 629.56batch/s, acc=1, loss=0.371]\n",
      "Epoch 17: 100%|██████████| 50/50 [00:00<00:00, 523.37batch/s, acc=1, loss=0.358]\n",
      "Epoch 18: 100%|██████████| 50/50 [00:00<00:00, 575.35batch/s, acc=1, loss=0.346]\n",
      "Epoch 19: 100%|██████████| 50/50 [00:00<00:00, 618.51batch/s, acc=1, loss=0.335]\n",
      "Epoch 20: 100%|██████████| 50/50 [00:00<00:00, 607.20batch/s, acc=1, loss=0.325]\n",
      "Epoch 21: 100%|██████████| 50/50 [00:00<00:00, 588.33batch/s, acc=1, loss=0.315]\n",
      "Epoch 22: 100%|██████████| 50/50 [00:00<00:00, 447.47batch/s, acc=1, loss=0.307]\n",
      "Epoch 23: 100%|██████████| 50/50 [00:00<00:00, 597.91batch/s, acc=1, loss=0.299]\n",
      "Epoch 24: 100%|██████████| 50/50 [00:00<00:00, 603.78batch/s, acc=1, loss=0.292]\n",
      "Epoch 25: 100%|██████████| 50/50 [00:00<00:00, 571.33batch/s, acc=1, loss=0.285]\n",
      "Epoch 26: 100%|██████████| 50/50 [00:00<00:00, 491.76batch/s, acc=1, loss=0.279]\n",
      "Epoch 27: 100%|██████████| 50/50 [00:00<00:00, 615.76batch/s, acc=1, loss=0.273]\n",
      "Epoch 28: 100%|██████████| 50/50 [00:00<00:00, 609.31batch/s, acc=1, loss=0.267]\n",
      "Epoch 29: 100%|██████████| 50/50 [00:00<00:00, 500.48batch/s, acc=1, loss=0.261]\n",
      "Epoch 30: 100%|██████████| 50/50 [00:00<00:00, 675.49batch/s, acc=1, loss=0.256]\n",
      "Epoch 31: 100%|██████████| 50/50 [00:00<00:00, 712.91batch/s, acc=1, loss=0.25]\n",
      "Epoch 32: 100%|██████████| 50/50 [00:00<00:00, 729.77batch/s, acc=1, loss=0.245]\n",
      "Epoch 33: 100%|██████████| 50/50 [00:00<00:00, 708.39batch/s, acc=1, loss=0.241]\n",
      "Epoch 34: 100%|██████████| 50/50 [00:00<00:00, 701.07batch/s, acc=1, loss=0.236]\n",
      "Epoch 35: 100%|██████████| 50/50 [00:00<00:00, 702.81batch/s, acc=1, loss=0.231]\n",
      "Epoch 36: 100%|██████████| 50/50 [00:00<00:00, 700.06batch/s, acc=1, loss=0.227]\n",
      "Epoch 37: 100%|██████████| 50/50 [00:00<00:00, 602.82batch/s, acc=1, loss=0.223]\n",
      "Epoch 38: 100%|██████████| 50/50 [00:00<00:00, 696.40batch/s, acc=1, loss=0.219]\n",
      "Epoch 39: 100%|██████████| 50/50 [00:00<00:00, 694.61batch/s, acc=1, loss=0.215]\n",
      "Epoch 40: 100%|██████████| 50/50 [00:00<00:00, 720.64batch/s, acc=1, loss=0.211]\n",
      "Epoch 41: 100%|██████████| 50/50 [00:00<00:00, 700.17batch/s, acc=1, loss=0.208]\n",
      "Epoch 42: 100%|██████████| 50/50 [00:00<00:00, 685.31batch/s, acc=1, loss=0.205]\n",
      "Epoch 43: 100%|██████████| 50/50 [00:00<00:00, 752.55batch/s, acc=1, loss=0.202]\n",
      "Epoch 44: 100%|██████████| 50/50 [00:00<00:00, 684.91batch/s, acc=1, loss=0.199]\n",
      "Epoch 45: 100%|██████████| 50/50 [00:00<00:00, 600.62batch/s, acc=1, loss=0.196]\n",
      "Epoch 46: 100%|██████████| 50/50 [00:00<00:00, 691.08batch/s, acc=1, loss=0.194]\n",
      "Epoch 47: 100%|██████████| 50/50 [00:00<00:00, 737.62batch/s, acc=1, loss=0.191]\n",
      "Epoch 48: 100%|██████████| 50/50 [00:00<00:00, 721.73batch/s, acc=1, loss=0.188]\n",
      "Epoch 49: 100%|██████████| 50/50 [00:00<00:00, 709.59batch/s, acc=1, loss=0.186]\n",
      "Epoch 50: 100%|██████████| 50/50 [00:00<00:00, 682.51batch/s, acc=1, loss=0.183]\n",
      "Epoch 51: 100%|██████████| 50/50 [00:00<00:00, 573.17batch/s, acc=1, loss=0.181]\n",
      "Epoch 52: 100%|██████████| 50/50 [00:00<00:00, 674.85batch/s, acc=1, loss=0.178]\n",
      "Epoch 53: 100%|██████████| 50/50 [00:00<00:00, 640.80batch/s, acc=1, loss=0.176]\n",
      "Epoch 54: 100%|██████████| 50/50 [00:00<00:00, 668.99batch/s, acc=1, loss=0.173]\n",
      "Epoch 55: 100%|██████████| 50/50 [00:00<00:00, 629.44batch/s, acc=1, loss=0.171]\n",
      "Epoch 56: 100%|██████████| 50/50 [00:00<00:00, 720.33batch/s, acc=1, loss=0.169]\n",
      "Epoch 57: 100%|██████████| 50/50 [00:00<00:00, 698.08batch/s, acc=1, loss=0.167]\n",
      "Epoch 58: 100%|██████████| 50/50 [00:00<00:00, 401.06batch/s, acc=1, loss=0.165]\n",
      "Epoch 59: 100%|██████████| 50/50 [00:00<00:00, 696.55batch/s, acc=1, loss=0.163]\n",
      "Epoch 60: 100%|██████████| 50/50 [00:00<00:00, 625.87batch/s, acc=1, loss=0.161]\n",
      "Epoch 61: 100%|██████████| 50/50 [00:00<00:00, 679.25batch/s, acc=1, loss=0.159]\n",
      "Epoch 62: 100%|██████████| 50/50 [00:00<00:00, 650.55batch/s, acc=1, loss=0.157]\n",
      "Epoch 63: 100%|██████████| 50/50 [00:00<00:00, 607.47batch/s, acc=1, loss=0.156]\n",
      "Epoch 64: 100%|██████████| 50/50 [00:00<00:00, 422.33batch/s, acc=1, loss=0.154] \n",
      "Epoch 65: 100%|██████████| 50/50 [00:00<00:00, 557.61batch/s, acc=1, loss=0.152]\n",
      "Epoch 66: 100%|██████████| 50/50 [00:00<00:00, 601.36batch/s, acc=1, loss=0.15]\n",
      "Epoch 67: 100%|██████████| 50/50 [00:00<00:00, 459.26batch/s, acc=1, loss=0.149]\n",
      "Epoch 68: 100%|██████████| 50/50 [00:00<00:00, 606.95batch/s, acc=1, loss=0.147]\n",
      "Epoch 69: 100%|██████████| 50/50 [00:00<00:00, 592.35batch/s, acc=1, loss=0.146]\n",
      "Epoch 70: 100%|██████████| 50/50 [00:00<00:00, 659.12batch/s, acc=1, loss=0.144]\n",
      "Epoch 71: 100%|██████████| 50/50 [00:00<00:00, 538.36batch/s, acc=1, loss=0.143]\n",
      "Epoch 72: 100%|██████████| 50/50 [00:00<00:00, 727.90batch/s, acc=1, loss=0.141]\n",
      "Epoch 73: 100%|██████████| 50/50 [00:00<00:00, 692.86batch/s, acc=1, loss=0.14]\n",
      "Epoch 74: 100%|██████████| 50/50 [00:00<00:00, 603.44batch/s, acc=1, loss=0.139]\n",
      "Epoch 75: 100%|██████████| 50/50 [00:00<00:00, 627.73batch/s, acc=1, loss=0.137]\n",
      "Epoch 76: 100%|██████████| 50/50 [00:00<00:00, 507.45batch/s, acc=1, loss=0.136]\n",
      "Epoch 77: 100%|██████████| 50/50 [00:00<00:00, 681.79batch/s, acc=1, loss=0.135]\n",
      "Epoch 78: 100%|██████████| 50/50 [00:00<00:00, 718.74batch/s, acc=1, loss=0.133]\n",
      "Epoch 79: 100%|██████████| 50/50 [00:00<00:00, 691.26batch/s, acc=1, loss=0.132]\n",
      "Epoch 80: 100%|██████████| 50/50 [00:00<00:00, 696.55batch/s, acc=1, loss=0.131]\n",
      "Epoch 81: 100%|██████████| 50/50 [00:00<00:00, 566.42batch/s, acc=1, loss=0.129]\n",
      "Epoch 82: 100%|██████████| 50/50 [00:00<00:00, 696.52batch/s, acc=1, loss=0.128]\n",
      "Epoch 83: 100%|██████████| 50/50 [00:00<00:00, 721.86batch/s, acc=1, loss=0.127]\n",
      "Epoch 84: 100%|██████████| 50/50 [00:00<00:00, 730.59batch/s, acc=1, loss=0.126]\n",
      "Epoch 85: 100%|██████████| 50/50 [00:00<00:00, 589.18batch/s, acc=1, loss=0.125]\n",
      "Epoch 86: 100%|██████████| 50/50 [00:00<00:00, 647.58batch/s, acc=1, loss=0.123]\n",
      "Epoch 87: 100%|██████████| 50/50 [00:00<00:00, 745.89batch/s, acc=1, loss=0.122]\n",
      "Epoch 88: 100%|██████████| 50/50 [00:00<00:00, 733.31batch/s, acc=1, loss=0.121]\n",
      "Epoch 89: 100%|██████████| 50/50 [00:00<00:00, 541.63batch/s, acc=1, loss=0.12]\n",
      "Epoch 90: 100%|██████████| 50/50 [00:00<00:00, 772.89batch/s, acc=1, loss=0.119]\n",
      "Epoch 91: 100%|██████████| 50/50 [00:00<00:00, 700.76batch/s, acc=1, loss=0.118]\n",
      "Epoch 92: 100%|██████████| 50/50 [00:00<00:00, 763.11batch/s, acc=1, loss=0.116]\n",
      "Epoch 93: 100%|██████████| 50/50 [00:00<00:00, 648.16batch/s, acc=1, loss=0.115]\n",
      "Epoch 94: 100%|██████████| 50/50 [00:00<00:00, 533.61batch/s, acc=1, loss=0.114]\n",
      "Epoch 95: 100%|██████████| 50/50 [00:00<00:00, 754.50batch/s, acc=1, loss=0.112]\n",
      "Epoch 96: 100%|██████████| 50/50 [00:00<00:00, 726.19batch/s, acc=1, loss=0.111]\n",
      "Epoch 97: 100%|██████████| 50/50 [00:00<00:00, 747.16batch/s, acc=1, loss=0.11]\n",
      "Epoch 98: 100%|██████████| 50/50 [00:00<00:00, 552.47batch/s, acc=1, loss=0.109]\n",
      "Epoch 99: 100%|██████████| 50/50 [00:00<00:00, 754.12batch/s, acc=1, loss=0.108]\n",
      "Epoch 100: 100%|██████████| 50/50 [00:00<00:00, 625.03batch/s, acc=1, loss=0.107]\n",
      "Epoch 101: 100%|██████████| 50/50 [00:00<00:00, 772.18batch/s, acc=1, loss=0.106]\n",
      "Epoch 102: 100%|██████████| 50/50 [00:00<00:00, 632.82batch/s, acc=1, loss=0.105]\n",
      "Epoch 103: 100%|██████████| 50/50 [00:00<00:00, 721.86batch/s, acc=1, loss=0.105]\n",
      "Epoch 104: 100%|██████████| 50/50 [00:00<00:00, 722.62batch/s, acc=1, loss=0.104]\n",
      "Epoch 105: 100%|██████████| 50/50 [00:00<00:00, 730.77batch/s, acc=1, loss=0.104]\n",
      "Epoch 106: 100%|██████████| 50/50 [00:00<00:00, 686.76batch/s, acc=1, loss=0.103]\n",
      "Epoch 107: 100%|██████████| 50/50 [00:00<00:00, 594.79batch/s, acc=1, loss=0.103]\n",
      "Epoch 108: 100%|██████████| 50/50 [00:00<00:00, 706.99batch/s, acc=1, loss=0.102]\n",
      "Epoch 109: 100%|██████████| 50/50 [00:00<00:00, 719.98batch/s, acc=1, loss=0.101]\n",
      "Epoch 110: 100%|██████████| 50/50 [00:00<00:00, 738.42batch/s, acc=1, loss=0.1]\n",
      "Epoch 111: 100%|██████████| 50/50 [00:00<00:00, 592.78batch/s, acc=1, loss=0.0995]\n",
      "Epoch 112: 100%|██████████| 50/50 [00:00<00:00, 723.22batch/s, acc=1, loss=0.0985]\n",
      "Epoch 113: 100%|██████████| 50/50 [00:00<00:00, 759.36batch/s, acc=1, loss=0.0978]\n",
      "Epoch 114: 100%|██████████| 50/50 [00:00<00:00, 729.41batch/s, acc=1, loss=0.0968]\n",
      "Epoch 115: 100%|██████████| 50/50 [00:00<00:00, 594.00batch/s, acc=1, loss=0.096]\n",
      "Epoch 116: 100%|██████████| 50/50 [00:00<00:00, 722.41batch/s, acc=1, loss=0.0951]\n",
      "Epoch 117: 100%|██████████| 50/50 [00:00<00:00, 686.65batch/s, acc=1, loss=0.094]\n",
      "Epoch 118: 100%|██████████| 50/50 [00:00<00:00, 683.28batch/s, acc=1, loss=0.093]\n",
      "Epoch 119: 100%|██████████| 50/50 [00:00<00:00, 565.35batch/s, acc=1, loss=0.0921]\n",
      "Epoch 120: 100%|██████████| 50/50 [00:00<00:00, 707.19batch/s, acc=1, loss=0.091]\n",
      "Epoch 121: 100%|██████████| 50/50 [00:00<00:00, 710.55batch/s, acc=1, loss=0.0899]\n",
      "Epoch 122: 100%|██████████| 50/50 [00:00<00:00, 744.41batch/s, acc=1, loss=0.089]\n",
      "Epoch 123: 100%|██████████| 50/50 [00:00<00:00, 547.48batch/s, acc=1, loss=0.0879]\n",
      "Epoch 124: 100%|██████████| 50/50 [00:00<00:00, 704.28batch/s, acc=1, loss=0.0868]\n",
      "Epoch 125: 100%|██████████| 50/50 [00:00<00:00, 715.17batch/s, acc=1, loss=0.0859]\n",
      "Epoch 126: 100%|██████████| 50/50 [00:00<00:00, 735.92batch/s, acc=1, loss=0.085]\n",
      "Epoch 127: 100%|██████████| 50/50 [00:00<00:00, 533.34batch/s, acc=1, loss=0.0842]\n",
      "Epoch 128: 100%|██████████| 50/50 [00:00<00:00, 682.73batch/s, acc=1, loss=0.0834]\n",
      "Epoch 129: 100%|██████████| 50/50 [00:00<00:00, 699.76batch/s, acc=1, loss=0.0826]\n",
      "Epoch 130: 100%|██████████| 50/50 [00:00<00:00, 731.40batch/s, acc=1, loss=0.0818]\n",
      "Epoch 131: 100%|██████████| 50/50 [00:00<00:00, 617.83batch/s, acc=1, loss=0.0812]\n",
      "Epoch 132: 100%|██████████| 50/50 [00:00<00:00, 703.15batch/s, acc=1, loss=0.0805]\n",
      "Epoch 133: 100%|██████████| 50/50 [00:00<00:00, 743.12batch/s, acc=1, loss=0.0796]\n",
      "Epoch 134: 100%|██████████| 50/50 [00:00<00:00, 736.28batch/s, acc=1, loss=0.0789]\n",
      "Epoch 135: 100%|██████████| 50/50 [00:00<00:00, 552.31batch/s, acc=1, loss=0.0781]\n",
      "Epoch 136: 100%|██████████| 50/50 [00:00<00:00, 682.56batch/s, acc=1, loss=0.0775]\n",
      "Epoch 137: 100%|██████████| 50/50 [00:00<00:00, 722.57batch/s, acc=1, loss=0.0768]\n",
      "Epoch 138: 100%|██████████| 50/50 [00:00<00:00, 562.71batch/s, acc=1, loss=0.0762]\n",
      "Epoch 139: 100%|██████████| 50/50 [00:00<00:00, 689.93batch/s, acc=1, loss=0.0756]\n",
      "Epoch 140: 100%|██████████| 50/50 [00:00<00:00, 682.15batch/s, acc=1, loss=0.075]\n",
      "Epoch 141: 100%|██████████| 50/50 [00:00<00:00, 727.03batch/s, acc=1, loss=0.0745]\n",
      "Epoch 142: 100%|██████████| 50/50 [00:00<00:00, 577.12batch/s, acc=1, loss=0.0739]\n",
      "Epoch 143: 100%|██████████| 50/50 [00:00<00:00, 714.42batch/s, acc=1, loss=0.0734]\n",
      "Epoch 144: 100%|██████████| 50/50 [00:00<00:00, 728.30batch/s, acc=1, loss=0.0729]\n",
      "Epoch 145: 100%|██████████| 50/50 [00:00<00:00, 542.95batch/s, acc=1, loss=0.0724]\n",
      "Epoch 146: 100%|██████████| 50/50 [00:00<00:00, 711.73batch/s, acc=1, loss=0.0719]\n",
      "Epoch 147: 100%|██████████| 50/50 [00:00<00:00, 726.20batch/s, acc=1, loss=0.0714]\n",
      "Epoch 148: 100%|██████████| 50/50 [00:00<00:00, 587.87batch/s, acc=1, loss=0.071]\n",
      "Epoch 149: 100%|██████████| 50/50 [00:00<00:00, 715.45batch/s, acc=1, loss=0.0705]\n",
      "Epoch 150: 100%|██████████| 50/50 [00:00<00:00, 754.72batch/s, acc=1, loss=0.07]\n",
      "Epoch 151: 100%|██████████| 50/50 [00:00<00:00, 729.91batch/s, acc=1, loss=0.0696]\n",
      "Epoch 152: 100%|██████████| 50/50 [00:00<00:00, 596.57batch/s, acc=1, loss=0.0692]\n",
      "Epoch 153: 100%|██████████| 50/50 [00:00<00:00, 725.27batch/s, acc=1, loss=0.0687]\n",
      "Epoch 154: 100%|██████████| 50/50 [00:00<00:00, 742.50batch/s, acc=1, loss=0.0683]\n",
      "Epoch 155: 100%|██████████| 50/50 [00:00<00:00, 574.33batch/s, acc=1, loss=0.0679]\n",
      "Epoch 156: 100%|██████████| 50/50 [00:00<00:00, 734.44batch/s, acc=1, loss=0.0675]\n",
      "Epoch 157: 100%|██████████| 50/50 [00:00<00:00, 688.58batch/s, acc=1, loss=0.0672]\n",
      "Epoch 158: 100%|██████████| 50/50 [00:00<00:00, 726.35batch/s, acc=1, loss=0.0668]\n",
      "Epoch 159: 100%|██████████| 50/50 [00:00<00:00, 594.82batch/s, acc=1, loss=0.0664]\n",
      "Epoch 160: 100%|██████████| 50/50 [00:00<00:00, 725.30batch/s, acc=1, loss=0.0661]\n",
      "Epoch 161: 100%|██████████| 50/50 [00:00<00:00, 706.71batch/s, acc=1, loss=0.0657]\n",
      "Epoch 162: 100%|██████████| 50/50 [00:00<00:00, 589.73batch/s, acc=1, loss=0.0654]\n",
      "Epoch 163: 100%|██████████| 50/50 [00:00<00:00, 709.45batch/s, acc=1, loss=0.065]\n",
      "Epoch 164: 100%|██████████| 50/50 [00:00<00:00, 743.58batch/s, acc=1, loss=0.0647]\n",
      "Epoch 165: 100%|██████████| 50/50 [00:00<00:00, 582.24batch/s, acc=1, loss=0.0644]\n",
      "Epoch 166: 100%|██████████| 50/50 [00:00<00:00, 712.07batch/s, acc=1, loss=0.0641]\n",
      "Epoch 167: 100%|██████████| 50/50 [00:00<00:00, 711.02batch/s, acc=1, loss=0.0638]\n",
      "Epoch 168: 100%|██████████| 50/50 [00:00<00:00, 597.14batch/s, acc=1, loss=0.0635]\n",
      "Epoch 169: 100%|██████████| 50/50 [00:00<00:00, 732.39batch/s, acc=1, loss=0.0631]\n",
      "Epoch 170: 100%|██████████| 50/50 [00:00<00:00, 590.14batch/s, acc=1, loss=0.0627]\n",
      "Epoch 171: 100%|██████████| 50/50 [00:00<00:00, 734.06batch/s, acc=1, loss=0.0624]\n",
      "Epoch 172: 100%|██████████| 50/50 [00:00<00:00, 749.44batch/s, acc=1, loss=0.0621]\n",
      "Epoch 173: 100%|██████████| 50/50 [00:00<00:00, 738.45batch/s, acc=1, loss=0.0618]\n",
      "Epoch 174: 100%|██████████| 50/50 [00:00<00:00, 590.72batch/s, acc=1, loss=0.0614]\n",
      "Epoch 175: 100%|██████████| 50/50 [00:00<00:00, 738.05batch/s, acc=1, loss=0.0611]\n",
      "Epoch 176: 100%|██████████| 50/50 [00:00<00:00, 663.67batch/s, acc=1, loss=0.0608]\n",
      "Epoch 177: 100%|██████████| 50/50 [00:00<00:00, 569.51batch/s, acc=1, loss=0.0605]\n",
      "Epoch 178: 100%|██████████| 50/50 [00:00<00:00, 683.46batch/s, acc=1, loss=0.0602]\n",
      "Epoch 179: 100%|██████████| 50/50 [00:00<00:00, 756.68batch/s, acc=1, loss=0.06]\n",
      "Epoch 180: 100%|██████████| 50/50 [00:00<00:00, 580.80batch/s, acc=1, loss=0.0597]\n",
      "Epoch 181: 100%|██████████| 50/50 [00:00<00:00, 743.75batch/s, acc=1, loss=0.0594]\n",
      "Epoch 182: 100%|██████████| 50/50 [00:00<00:00, 595.59batch/s, acc=1, loss=0.0591]\n",
      "Epoch 183: 100%|██████████| 50/50 [00:00<00:00, 676.76batch/s, acc=1, loss=0.0588]\n",
      "Epoch 184: 100%|██████████| 50/50 [00:00<00:00, 684.19batch/s, acc=1, loss=0.0586]\n",
      "Epoch 185: 100%|██████████| 50/50 [00:00<00:00, 578.58batch/s, acc=1, loss=0.0583]\n",
      "Epoch 186: 100%|██████████| 50/50 [00:00<00:00, 718.70batch/s, acc=1, loss=0.058]\n",
      "Epoch 187: 100%|██████████| 50/50 [00:00<00:00, 731.22batch/s, acc=1, loss=0.0578]\n",
      "Epoch 188: 100%|██████████| 50/50 [00:00<00:00, 588.05batch/s, acc=1, loss=0.0575]\n",
      "Epoch 189: 100%|██████████| 50/50 [00:00<00:00, 695.54batch/s, acc=1, loss=0.0573]\n",
      "Epoch 190: 100%|██████████| 50/50 [00:00<00:00, 710.95batch/s, acc=1, loss=0.057]\n",
      "Epoch 191: 100%|██████████| 50/50 [00:00<00:00, 561.41batch/s, acc=1, loss=0.0568]\n",
      "Epoch 192: 100%|██████████| 50/50 [00:00<00:00, 672.25batch/s, acc=1, loss=0.0565]\n",
      "Epoch 193: 100%|██████████| 50/50 [00:00<00:00, 691.51batch/s, acc=1, loss=0.0561]\n",
      "Epoch 194: 100%|██████████| 50/50 [00:00<00:00, 595.10batch/s, acc=1, loss=0.0558]\n",
      "Epoch 195: 100%|██████████| 50/50 [00:00<00:00, 730.46batch/s, acc=1, loss=0.0554]\n",
      "Epoch 196: 100%|██████████| 50/50 [00:00<00:00, 565.85batch/s, acc=1, loss=0.0551]\n",
      "Epoch 197: 100%|██████████| 50/50 [00:00<00:00, 697.68batch/s, acc=1, loss=0.0547]\n",
      "Epoch 198: 100%|██████████| 50/50 [00:00<00:00, 732.73batch/s, acc=1, loss=0.0544]\n",
      "Epoch 199: 100%|██████████| 50/50 [00:00<00:00, 569.73batch/s, acc=1, loss=0.0541]\n"
     ]
    }
   ],
   "source": [
    "n_epochs = 200   # number of epochs to run\n",
    "batch_size = 2  # size of each batch\n",
    "batch_start = torch.arange(0, len(X_train3), batch_size)\n",
    "\n",
    "mean_train_losses = []\n",
    "for epoch in range(n_epochs):\n",
    "    model.train() # tells your model that you are training the model\n",
    "    \n",
    "    train_losses = []\n",
    "    with tqdm(batch_start, unit=\"batch\") as bar:\n",
    "        bar.set_description(f\"Epoch {epoch}\")\n",
    "        for start in bar:\n",
    "            # take a batch\n",
    "            X_batch = X_train3[start:start+batch_size]\n",
    "            y_batch = Y_train3[start:start+batch_size]\n",
    "            # forward pass\n",
    "            y_pred = model(X_batch)\n",
    "            loss = loss_fn(y_pred, y_batch)\n",
    "            train_losses.append(loss.item())\n",
    "            # backward pass\n",
    "            optimizer.zero_grad()\n",
    "            loss.backward()\n",
    "            # update weights\n",
    "            optimizer.step()\n",
    "            # print progress\n",
    "            acc = (y_pred.round() == y_batch).float().mean()\n",
    "            bar.set_postfix(\n",
    "                loss=float(loss),\n",
    "                acc=float(acc)\n",
    "            )\n",
    "    mean_train_losses.append(np.mean(train_losses))"
   ]
  },
  {
   "attachments": {},
   "cell_type": "markdown",
   "metadata": {},
   "source": [
    "Training loss plot"
   ]
  },
  {
   "cell_type": "code",
   "execution_count": 19,
   "metadata": {},
   "outputs": [
    {
     "data": {
      "image/png": "[encoded data removed]",
      "text/plain": [
       "<Figure size 640x480 with 1 Axes>"
      ]
     },
     "metadata": {},
     "output_type": "display_data"
    }
   ],
   "source": [
    "import matplotlib.pyplot as plt\n",
    "plt.plot(mean_train_losses)\n",
    "plt.ylabel('train loss')\n",
    "plt.xlabel('epoch')\n",
    "plt.show()"
   ]
  },
  {
   "attachments": {},
   "cell_type": "markdown",
   "metadata": {},
   "source": [
    "Evalution on test set\n",
    "\n",
    "It works well on this non linear seperable dataset"
   ]
  },
  {
   "cell_type": "code",
   "execution_count": 20,
   "metadata": {},
   "outputs": [
    {
     "name": "stdout",
     "output_type": "stream",
     "text": [
      "Test Acc: 0.9300000071525574\n"
     ]
    }
   ],
   "source": [
    "# evaluate accuracy at end of each epoch\n",
    "model.eval() # tells your model that you are evaluating the model, no parameters will be updated\n",
    "Y_pred3 = model(X_test3)\n",
    "acc = (Y_pred3.round() == Y_test3).float().mean()\n",
    "acc = float(acc)\n",
    "print('Test Acc:', acc)"
   ]
  },
  {
   "attachments": {},
   "cell_type": "markdown",
   "metadata": {},
   "source": [
    "Save and load the entire Model"
   ]
  },
  {
   "cell_type": "code",
   "execution_count": 21,
   "metadata": {},
   "outputs": [],
   "source": [
    "# Save\n",
    "PATH = 'final_model.pt'\n",
    "torch.save(model, PATH)"
   ]
  },
  {
   "cell_type": "code",
   "execution_count": 22,
   "metadata": {},
   "outputs": [
    {
     "data": {
      "text/plain": [
       "MLP(\n",
       "  (hidden1): Linear(in_features=2, out_features=10, bias=True)\n",
       "  (relu): ReLU()\n",
       "  (hidden2): Linear(in_features=10, out_features=1, bias=True)\n",
       "  (sigmoid): Sigmoid()\n",
       ")"
      ]
     },
     "execution_count": 22,
     "metadata": {},
     "output_type": "execute_result"
    }
   ],
   "source": [
    "# Load\n",
    "PATH = 'final_model.pt'\n",
    "# Model class must be defined somewhere\n",
    "model = torch.load(PATH)\n",
    "model.eval()"
   ]
  }
 ],
 "metadata": {
  "kernelspec": {
   "display_name": "ee559",
   "language": "python",
   "name": "python3"
  },
  "language_info": {
   "codemirror_mode": {
    "name": "ipython",
    "version": 3
   },
   "file_extension": ".py",
   "mimetype": "text/x-python",
   "name": "python",
   "nbconvert_exporter": "python",
   "pygments_lexer": "ipython3",
   "version": "3.9.15"
  },
  "orig_nbformat": 4
 },
 "nbformat": 4,
 "nbformat_minor": 2
}
